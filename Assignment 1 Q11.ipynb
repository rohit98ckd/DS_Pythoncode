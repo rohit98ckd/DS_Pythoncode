{
 "cells": [
  {
   "cell_type": "markdown",
   "id": "26e47ba1",
   "metadata": {},
   "source": [
    "# Q11. Answer"
   ]
  },
  {
   "cell_type": "code",
   "execution_count": 6,
   "id": "00f4d721",
   "metadata": {},
   "outputs": [],
   "source": [
    "# given Average weight =200\n",
    "# given Standard deviation = 30"
   ]
  },
  {
   "cell_type": "code",
   "execution_count": 7,
   "id": "32607ffe",
   "metadata": {},
   "outputs": [],
   "source": [
    "from scipy import stats\n",
    "import numpy as np\n",
    "import pandas as pd"
   ]
  },
  {
   "cell_type": "code",
   "execution_count": 8,
   "id": "9ebff830",
   "metadata": {},
   "outputs": [
    {
     "data": {
      "text/plain": [
       "array([143.576, 256.424])"
      ]
     },
     "execution_count": 8,
     "metadata": {},
     "output_type": "execute_result"
    }
   ],
   "source": [
    "ci_1=np.round(stats.norm.interval(0.94,200,30),3)\n",
    "ci_1"
   ]
  },
  {
   "cell_type": "code",
   "execution_count": 9,
   "id": "90d0325c",
   "metadata": {},
   "outputs": [
    {
     "data": {
      "text/plain": [
       "array([130.21, 269.79])"
      ]
     },
     "execution_count": 9,
     "metadata": {},
     "output_type": "execute_result"
    }
   ],
   "source": [
    "ci_2=np.round(stats.norm.interval(0.98,200,30),3)\n",
    "ci_2"
   ]
  },
  {
   "cell_type": "code",
   "execution_count": 10,
   "id": "c2cc7a9f",
   "metadata": {},
   "outputs": [
    {
     "data": {
      "text/plain": [
       "array([138.388, 261.612])"
      ]
     },
     "execution_count": 10,
     "metadata": {},
     "output_type": "execute_result"
    }
   ],
   "source": [
    "ci_3=np.round(stats.norm.interval(0.96,200,30),3)\n",
    "ci_3"
   ]
  },
  {
   "cell_type": "markdown",
   "id": "8b76145e",
   "metadata": {},
   "source": [
    "# Q12. Answer"
   ]
  },
  {
   "cell_type": "code",
   "execution_count": 11,
   "id": "438702a1",
   "metadata": {},
   "outputs": [],
   "source": [
    "x=[34,36,36,38,38,39,39,40,40,41,41,41,41,42,42,45,49,56]"
   ]
  },
  {
   "cell_type": "code",
   "execution_count": 13,
   "id": "e74bdc57",
   "metadata": {},
   "outputs": [
    {
     "data": {
      "text/plain": [
       "41.0"
      ]
     },
     "execution_count": 13,
     "metadata": {},
     "output_type": "execute_result"
    }
   ],
   "source": [
    "np.mean(x)"
   ]
  },
  {
   "cell_type": "code",
   "execution_count": 14,
   "id": "aa0b1f33",
   "metadata": {},
   "outputs": [
    {
     "data": {
      "text/plain": [
       "40.5"
      ]
     },
     "execution_count": 14,
     "metadata": {},
     "output_type": "execute_result"
    }
   ],
   "source": [
    "np.median(x)"
   ]
  },
  {
   "cell_type": "code",
   "execution_count": 15,
   "id": "1ef8167c",
   "metadata": {},
   "outputs": [
    {
     "data": {
      "text/plain": [
       "24.11111111111111"
      ]
     },
     "execution_count": 15,
     "metadata": {},
     "output_type": "execute_result"
    }
   ],
   "source": [
    "np.var(x)"
   ]
  },
  {
   "cell_type": "code",
   "execution_count": 17,
   "id": "384663e4",
   "metadata": {},
   "outputs": [
    {
     "data": {
      "text/plain": [
       "4.910306620885412"
      ]
     },
     "execution_count": 17,
     "metadata": {},
     "output_type": "execute_result"
    }
   ],
   "source": [
    "np.std(x)"
   ]
  },
  {
   "cell_type": "code",
   "execution_count": 20,
   "id": "b89ded24",
   "metadata": {},
   "outputs": [
    {
     "data": {
      "text/plain": [
       "4.910306620885412"
      ]
     },
     "execution_count": 20,
     "metadata": {},
     "output_type": "execute_result"
    }
   ],
   "source": [
    "np.sqrt(np.var(x))"
   ]
  },
  {
   "cell_type": "code",
   "execution_count": null,
   "id": "4f1043fd",
   "metadata": {},
   "outputs": [],
   "source": []
  },
  {
   "cell_type": "code",
   "execution_count": null,
   "id": "334f0290",
   "metadata": {},
   "outputs": [],
   "source": []
  }
 ],
 "metadata": {
  "kernelspec": {
   "display_name": "Python 3 (ipykernel)",
   "language": "python",
   "name": "python3"
  },
  "language_info": {
   "codemirror_mode": {
    "name": "ipython",
    "version": 3
   },
   "file_extension": ".py",
   "mimetype": "text/x-python",
   "name": "python",
   "nbconvert_exporter": "python",
   "pygments_lexer": "ipython3",
   "version": "3.9.12"
  }
 },
 "nbformat": 4,
 "nbformat_minor": 5
}
