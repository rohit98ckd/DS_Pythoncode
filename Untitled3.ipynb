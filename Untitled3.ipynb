{
 "cells": [
  {
   "cell_type": "code",
   "execution_count": 19,
   "id": "08e4a403",
   "metadata": {},
   "outputs": [],
   "source": [
    " def mondcode(x):\n",
    "        !pip install qrcode\n",
    "        import qrcode\n",
    "        img = qrcode.make(\"https://www.youtube.com/watch?v=yMlKJGKyoCo\")\n",
    "        img.show()    \n",
    "   "
   ]
  },
  {
   "cell_type": "code",
   "execution_count": null,
   "id": "5533558f",
   "metadata": {},
   "outputs": [],
   "source": [
    "Fuck U Riksha\n",
    "Fu"
   ]
  },
  {
   "cell_type": "code",
   "execution_count": 20,
   "id": "0afe4076",
   "metadata": {},
   "outputs": [
    {
     "name": "stdout",
     "output_type": "stream",
     "text": [
      "Requirement already satisfied: qrcode in c:\\users\\dell\\anaconda3\\lib\\site-packages (7.3.1)\n",
      "Requirement already satisfied: colorama in c:\\users\\dell\\anaconda3\\lib\\site-packages (from qrcode) (0.4.4)\n"
     ]
    }
   ],
   "source": [
    "mondcode(5)"
   ]
  },
  {
   "cell_type": "code",
   "execution_count": null,
   "id": "c0e4e25a",
   "metadata": {},
   "outputs": [],
   "source": []
  },
  {
   "cell_type": "code",
   "execution_count": null,
   "id": "0f399366",
   "metadata": {},
   "outputs": [],
   "source": []
  },
  {
   "cell_type": "code",
   "execution_count": 34,
   "id": "c3634fce",
   "metadata": {},
   "outputs": [
    {
     "ename": "SyntaxError",
     "evalue": "invalid syntax (3192486949.py, line 1)",
     "output_type": "error",
     "traceback": [
      "\u001b[1;36m  Input \u001b[1;32mIn [34]\u001b[1;36m\u001b[0m\n\u001b[1;33m    class():\u001b[0m\n\u001b[1;37m         ^\u001b[0m\n\u001b[1;31mSyntaxError\u001b[0m\u001b[1;31m:\u001b[0m invalid syntax\n"
     ]
    }
   ],
   "source": [
    "class():\n",
    "    \n",
    "    def mondcode(a):\n",
    "        x=str(a)\n",
    "        print(\" FUCK U \",x)     "
   ]
  },
  {
   "cell_type": "code",
   "execution_count": null,
   "id": "074869a5",
   "metadata": {},
   "outputs": [],
   "source": [
    "Fuck U Riksha\n",
    "Fuck U Riksha\n"
   ]
  },
  {
   "cell_type": "code",
   "execution_count": 35,
   "id": "129e3065",
   "metadata": {},
   "outputs": [
    {
     "name": "stdout",
     "output_type": "stream",
     "text": [
      " FUCK U  rohit\n"
     ]
    }
   ],
   "source": [
    "mondcode(a)"
   ]
  },
  {
   "cell_type": "code",
   "execution_count": 1,
   "id": "8dff19d8",
   "metadata": {},
   "outputs": [],
   "source": [
    "import pyautogui as pg\n",
    "import time\n",
    "\n",
    "time.sleep(5)\n",
    "\n",
    "for i in range(200):\n",
    "    pg.write(\"mond pooji\")\n",
    "    pg.press(\"Enter\")"
   ]
  },
  {
   "cell_type": "code",
   "execution_count": null,
   "id": "d9d497ac",
   "metadata": {},
   "outputs": [],
   "source": []
  },
  {
   "cell_type": "markdown",
   "id": "883f1a14",
   "metadata": {},
   "source": [
    "mom\n",
    "mom\n",
    "mom\n",
    "mom\n",
    "mom\n",
    "mom\n",
    "mom\n",
    "mom\n",
    "mom\n",
    "mom\n",
    "mom\n",
    "mom\n",
    "!pip install pyautogui"
   ]
  },
  {
   "cell_type": "code",
   "execution_count": 2,
   "id": "98d692b4",
   "metadata": {},
   "outputs": [
    {
     "name": "stdout",
     "output_type": "stream",
     "text": [
      "Collecting qrcode\n",
      "  Downloading qrcode-7.3.1.tar.gz (43 kB)\n",
      "     ---------------------------------------- 43.5/43.5 kB 2.1 MB/s eta 0:00:00\n",
      "  Preparing metadata (setup.py): started\n",
      "  Preparing metadata (setup.py): finished with status 'done'\n",
      "Requirement already satisfied: colorama in c:\\users\\dell\\anaconda3\\lib\\site-packages (from qrcode) (0.4.4)\n",
      "Building wheels for collected packages: qrcode\n",
      "  Building wheel for qrcode (setup.py): started\n",
      "  Building wheel for qrcode (setup.py): finished with status 'done'\n",
      "  Created wheel for qrcode: filename=qrcode-7.3.1-py3-none-any.whl size=40401 sha256=9a2b2d1a93643e4282dbcb2dc1282a75fcdc556ec61eccb6e6d23bf86ec1c24a\n",
      "  Stored in directory: c:\\users\\dell\\appdata\\local\\pip\\cache\\wheels\\72\\8d\\d4\\18b60cd6cda7fd6832229ded41aa505cee22e22f7f47ea97ea\n",
      "Successfully built qrcode\n",
      "Installing collected packages: qrcode\n",
      "Successfully installed qrcode-7.3.1\n"
     ]
    }
   ],
   "source": [
    "!pip install qrcode"
   ]
  },
  {
   "cell_type": "code",
   "execution_count": 6,
   "id": "d15c6eae",
   "metadata": {},
   "outputs": [],
   "source": [
    "import qrcode\n",
    "img = qrcode.make(\"https://www.youtube.com/watch?v=yMlKJGKyoCo\")\n",
    "img.show()"
   ]
  },
  {
   "cell_type": "code",
   "execution_count": null,
   "id": "bfc206a6",
   "metadata": {},
   "outputs": [],
   "source": [
    "img.save(\"myQRcode.ong\")\n"
   ]
  },
  {
   "cell_type": "code",
   "execution_count": 5,
   "id": "a58070ab",
   "metadata": {},
   "outputs": [
    {
     "ename": "IndentationError",
     "evalue": "expected an indented block (1473335959.py, line 5)",
     "output_type": "error",
     "traceback": [
      "\u001b[1;36m  Input \u001b[1;32mIn [5]\u001b[1;36m\u001b[0m\n\u001b[1;33m    return max_num\u001b[0m\n\u001b[1;37m    ^\u001b[0m\n\u001b[1;31mIndentationError\u001b[0m\u001b[1;31m:\u001b[0m expected an indented block\n"
     ]
    }
   ],
   "source": [
    "def find_max(nums):\n",
    "    max_num = float(\"-inf\")\n",
    "    for num in nums:\n",
    "        if num>max_num:\n",
    "    return max_num"
   ]
  },
  {
   "cell_type": "code",
   "execution_count": 4,
   "id": "9b12ef98",
   "metadata": {},
   "outputs": [
    {
     "data": {
      "text/plain": [
       "-inf"
      ]
     },
     "execution_count": 4,
     "metadata": {},
     "output_type": "execute_result"
    }
   ],
   "source": [
    "float(\"-inf\")"
   ]
  },
  {
   "cell_type": "code",
   "execution_count": null,
   "id": "259d56c9",
   "metadata": {},
   "outputs": [],
   "source": []
  }
 ],
 "metadata": {
  "kernelspec": {
   "display_name": "Python 3 (ipykernel)",
   "language": "python",
   "name": "python3"
  },
  "language_info": {
   "codemirror_mode": {
    "name": "ipython",
    "version": 3
   },
   "file_extension": ".py",
   "mimetype": "text/x-python",
   "name": "python",
   "nbconvert_exporter": "python",
   "pygments_lexer": "ipython3",
   "version": "3.9.12"
  }
 },
 "nbformat": 4,
 "nbformat_minor": 5
}
