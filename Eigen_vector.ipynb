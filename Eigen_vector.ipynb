{
 "cells": [
  {
   "cell_type": "code",
   "execution_count": 45,
   "id": "1dccd736",
   "metadata": {},
   "outputs": [],
   "source": [
    "import numpy as np\n",
    "import seaborn as sns\n",
    "import pandas as pd"
   ]
  },
  {
   "cell_type": "code",
   "execution_count": 4,
   "id": "36d976ca",
   "metadata": {},
   "outputs": [],
   "source": [
    "data= sns.load_dataset(\"iris\")"
   ]
  },
  {
   "cell_type": "code",
   "execution_count": 5,
   "id": "29b8a033",
   "metadata": {},
   "outputs": [
    {
     "data": {
      "text/html": [
       "<div>\n",
       "<style scoped>\n",
       "    .dataframe tbody tr th:only-of-type {\n",
       "        vertical-align: middle;\n",
       "    }\n",
       "\n",
       "    .dataframe tbody tr th {\n",
       "        vertical-align: top;\n",
       "    }\n",
       "\n",
       "    .dataframe thead th {\n",
       "        text-align: right;\n",
       "    }\n",
       "</style>\n",
       "<table border=\"1\" class=\"dataframe\">\n",
       "  <thead>\n",
       "    <tr style=\"text-align: right;\">\n",
       "      <th></th>\n",
       "      <th>sepal_length</th>\n",
       "      <th>sepal_width</th>\n",
       "      <th>petal_length</th>\n",
       "      <th>petal_width</th>\n",
       "      <th>species</th>\n",
       "    </tr>\n",
       "  </thead>\n",
       "  <tbody>\n",
       "    <tr>\n",
       "      <th>0</th>\n",
       "      <td>5.1</td>\n",
       "      <td>3.5</td>\n",
       "      <td>1.4</td>\n",
       "      <td>0.2</td>\n",
       "      <td>setosa</td>\n",
       "    </tr>\n",
       "    <tr>\n",
       "      <th>1</th>\n",
       "      <td>4.9</td>\n",
       "      <td>3.0</td>\n",
       "      <td>1.4</td>\n",
       "      <td>0.2</td>\n",
       "      <td>setosa</td>\n",
       "    </tr>\n",
       "    <tr>\n",
       "      <th>2</th>\n",
       "      <td>4.7</td>\n",
       "      <td>3.2</td>\n",
       "      <td>1.3</td>\n",
       "      <td>0.2</td>\n",
       "      <td>setosa</td>\n",
       "    </tr>\n",
       "    <tr>\n",
       "      <th>3</th>\n",
       "      <td>4.6</td>\n",
       "      <td>3.1</td>\n",
       "      <td>1.5</td>\n",
       "      <td>0.2</td>\n",
       "      <td>setosa</td>\n",
       "    </tr>\n",
       "    <tr>\n",
       "      <th>4</th>\n",
       "      <td>5.0</td>\n",
       "      <td>3.6</td>\n",
       "      <td>1.4</td>\n",
       "      <td>0.2</td>\n",
       "      <td>setosa</td>\n",
       "    </tr>\n",
       "    <tr>\n",
       "      <th>...</th>\n",
       "      <td>...</td>\n",
       "      <td>...</td>\n",
       "      <td>...</td>\n",
       "      <td>...</td>\n",
       "      <td>...</td>\n",
       "    </tr>\n",
       "    <tr>\n",
       "      <th>145</th>\n",
       "      <td>6.7</td>\n",
       "      <td>3.0</td>\n",
       "      <td>5.2</td>\n",
       "      <td>2.3</td>\n",
       "      <td>virginica</td>\n",
       "    </tr>\n",
       "    <tr>\n",
       "      <th>146</th>\n",
       "      <td>6.3</td>\n",
       "      <td>2.5</td>\n",
       "      <td>5.0</td>\n",
       "      <td>1.9</td>\n",
       "      <td>virginica</td>\n",
       "    </tr>\n",
       "    <tr>\n",
       "      <th>147</th>\n",
       "      <td>6.5</td>\n",
       "      <td>3.0</td>\n",
       "      <td>5.2</td>\n",
       "      <td>2.0</td>\n",
       "      <td>virginica</td>\n",
       "    </tr>\n",
       "    <tr>\n",
       "      <th>148</th>\n",
       "      <td>6.2</td>\n",
       "      <td>3.4</td>\n",
       "      <td>5.4</td>\n",
       "      <td>2.3</td>\n",
       "      <td>virginica</td>\n",
       "    </tr>\n",
       "    <tr>\n",
       "      <th>149</th>\n",
       "      <td>5.9</td>\n",
       "      <td>3.0</td>\n",
       "      <td>5.1</td>\n",
       "      <td>1.8</td>\n",
       "      <td>virginica</td>\n",
       "    </tr>\n",
       "  </tbody>\n",
       "</table>\n",
       "<p>150 rows × 5 columns</p>\n",
       "</div>"
      ],
      "text/plain": [
       "     sepal_length  sepal_width  petal_length  petal_width    species\n",
       "0             5.1          3.5           1.4          0.2     setosa\n",
       "1             4.9          3.0           1.4          0.2     setosa\n",
       "2             4.7          3.2           1.3          0.2     setosa\n",
       "3             4.6          3.1           1.5          0.2     setosa\n",
       "4             5.0          3.6           1.4          0.2     setosa\n",
       "..            ...          ...           ...          ...        ...\n",
       "145           6.7          3.0           5.2          2.3  virginica\n",
       "146           6.3          2.5           5.0          1.9  virginica\n",
       "147           6.5          3.0           5.2          2.0  virginica\n",
       "148           6.2          3.4           5.4          2.3  virginica\n",
       "149           5.9          3.0           5.1          1.8  virginica\n",
       "\n",
       "[150 rows x 5 columns]"
      ]
     },
     "execution_count": 5,
     "metadata": {},
     "output_type": "execute_result"
    }
   ],
   "source": [
    "data"
   ]
  },
  {
   "cell_type": "code",
   "execution_count": 8,
   "id": "4dae5498",
   "metadata": {},
   "outputs": [],
   "source": [
    "a=data.iloc[:,:-1]"
   ]
  },
  {
   "cell_type": "code",
   "execution_count": 19,
   "id": "5ce5d57c",
   "metadata": {},
   "outputs": [
    {
     "data": {
      "text/html": [
       "<div>\n",
       "<style scoped>\n",
       "    .dataframe tbody tr th:only-of-type {\n",
       "        vertical-align: middle;\n",
       "    }\n",
       "\n",
       "    .dataframe tbody tr th {\n",
       "        vertical-align: top;\n",
       "    }\n",
       "\n",
       "    .dataframe thead th {\n",
       "        text-align: right;\n",
       "    }\n",
       "</style>\n",
       "<table border=\"1\" class=\"dataframe\">\n",
       "  <thead>\n",
       "    <tr style=\"text-align: right;\">\n",
       "      <th></th>\n",
       "      <th>sepal_length</th>\n",
       "      <th>sepal_width</th>\n",
       "      <th>petal_length</th>\n",
       "      <th>petal_width</th>\n",
       "    </tr>\n",
       "  </thead>\n",
       "  <tbody>\n",
       "    <tr>\n",
       "      <th>0</th>\n",
       "      <td>5.1</td>\n",
       "      <td>3.5</td>\n",
       "      <td>1.4</td>\n",
       "      <td>0.2</td>\n",
       "    </tr>\n",
       "    <tr>\n",
       "      <th>1</th>\n",
       "      <td>4.9</td>\n",
       "      <td>3.0</td>\n",
       "      <td>1.4</td>\n",
       "      <td>0.2</td>\n",
       "    </tr>\n",
       "    <tr>\n",
       "      <th>2</th>\n",
       "      <td>4.7</td>\n",
       "      <td>3.2</td>\n",
       "      <td>1.3</td>\n",
       "      <td>0.2</td>\n",
       "    </tr>\n",
       "    <tr>\n",
       "      <th>3</th>\n",
       "      <td>4.6</td>\n",
       "      <td>3.1</td>\n",
       "      <td>1.5</td>\n",
       "      <td>0.2</td>\n",
       "    </tr>\n",
       "    <tr>\n",
       "      <th>4</th>\n",
       "      <td>5.0</td>\n",
       "      <td>3.6</td>\n",
       "      <td>1.4</td>\n",
       "      <td>0.2</td>\n",
       "    </tr>\n",
       "    <tr>\n",
       "      <th>...</th>\n",
       "      <td>...</td>\n",
       "      <td>...</td>\n",
       "      <td>...</td>\n",
       "      <td>...</td>\n",
       "    </tr>\n",
       "    <tr>\n",
       "      <th>145</th>\n",
       "      <td>6.7</td>\n",
       "      <td>3.0</td>\n",
       "      <td>5.2</td>\n",
       "      <td>2.3</td>\n",
       "    </tr>\n",
       "    <tr>\n",
       "      <th>146</th>\n",
       "      <td>6.3</td>\n",
       "      <td>2.5</td>\n",
       "      <td>5.0</td>\n",
       "      <td>1.9</td>\n",
       "    </tr>\n",
       "    <tr>\n",
       "      <th>147</th>\n",
       "      <td>6.5</td>\n",
       "      <td>3.0</td>\n",
       "      <td>5.2</td>\n",
       "      <td>2.0</td>\n",
       "    </tr>\n",
       "    <tr>\n",
       "      <th>148</th>\n",
       "      <td>6.2</td>\n",
       "      <td>3.4</td>\n",
       "      <td>5.4</td>\n",
       "      <td>2.3</td>\n",
       "    </tr>\n",
       "    <tr>\n",
       "      <th>149</th>\n",
       "      <td>5.9</td>\n",
       "      <td>3.0</td>\n",
       "      <td>5.1</td>\n",
       "      <td>1.8</td>\n",
       "    </tr>\n",
       "  </tbody>\n",
       "</table>\n",
       "<p>150 rows × 4 columns</p>\n",
       "</div>"
      ],
      "text/plain": [
       "     sepal_length  sepal_width  petal_length  petal_width\n",
       "0             5.1          3.5           1.4          0.2\n",
       "1             4.9          3.0           1.4          0.2\n",
       "2             4.7          3.2           1.3          0.2\n",
       "3             4.6          3.1           1.5          0.2\n",
       "4             5.0          3.6           1.4          0.2\n",
       "..            ...          ...           ...          ...\n",
       "145           6.7          3.0           5.2          2.3\n",
       "146           6.3          2.5           5.0          1.9\n",
       "147           6.5          3.0           5.2          2.0\n",
       "148           6.2          3.4           5.4          2.3\n",
       "149           5.9          3.0           5.1          1.8\n",
       "\n",
       "[150 rows x 4 columns]"
      ]
     },
     "execution_count": 19,
     "metadata": {},
     "output_type": "execute_result"
    }
   ],
   "source": [
    "a"
   ]
  },
  {
   "cell_type": "code",
   "execution_count": 20,
   "id": "df508c9d",
   "metadata": {},
   "outputs": [],
   "source": [
    "a_t=a.transpose()"
   ]
  },
  {
   "cell_type": "code",
   "execution_count": 21,
   "id": "78fb89b7",
   "metadata": {},
   "outputs": [
    {
     "data": {
      "text/html": [
       "<div>\n",
       "<style scoped>\n",
       "    .dataframe tbody tr th:only-of-type {\n",
       "        vertical-align: middle;\n",
       "    }\n",
       "\n",
       "    .dataframe tbody tr th {\n",
       "        vertical-align: top;\n",
       "    }\n",
       "\n",
       "    .dataframe thead th {\n",
       "        text-align: right;\n",
       "    }\n",
       "</style>\n",
       "<table border=\"1\" class=\"dataframe\">\n",
       "  <thead>\n",
       "    <tr style=\"text-align: right;\">\n",
       "      <th></th>\n",
       "      <th>0</th>\n",
       "      <th>1</th>\n",
       "      <th>2</th>\n",
       "      <th>3</th>\n",
       "      <th>4</th>\n",
       "      <th>5</th>\n",
       "      <th>6</th>\n",
       "      <th>7</th>\n",
       "      <th>8</th>\n",
       "      <th>9</th>\n",
       "      <th>...</th>\n",
       "      <th>140</th>\n",
       "      <th>141</th>\n",
       "      <th>142</th>\n",
       "      <th>143</th>\n",
       "      <th>144</th>\n",
       "      <th>145</th>\n",
       "      <th>146</th>\n",
       "      <th>147</th>\n",
       "      <th>148</th>\n",
       "      <th>149</th>\n",
       "    </tr>\n",
       "  </thead>\n",
       "  <tbody>\n",
       "    <tr>\n",
       "      <th>sepal_length</th>\n",
       "      <td>5.1</td>\n",
       "      <td>4.9</td>\n",
       "      <td>4.7</td>\n",
       "      <td>4.6</td>\n",
       "      <td>5.0</td>\n",
       "      <td>5.4</td>\n",
       "      <td>4.6</td>\n",
       "      <td>5.0</td>\n",
       "      <td>4.4</td>\n",
       "      <td>4.9</td>\n",
       "      <td>...</td>\n",
       "      <td>6.7</td>\n",
       "      <td>6.9</td>\n",
       "      <td>5.8</td>\n",
       "      <td>6.8</td>\n",
       "      <td>6.7</td>\n",
       "      <td>6.7</td>\n",
       "      <td>6.3</td>\n",
       "      <td>6.5</td>\n",
       "      <td>6.2</td>\n",
       "      <td>5.9</td>\n",
       "    </tr>\n",
       "    <tr>\n",
       "      <th>sepal_width</th>\n",
       "      <td>3.5</td>\n",
       "      <td>3.0</td>\n",
       "      <td>3.2</td>\n",
       "      <td>3.1</td>\n",
       "      <td>3.6</td>\n",
       "      <td>3.9</td>\n",
       "      <td>3.4</td>\n",
       "      <td>3.4</td>\n",
       "      <td>2.9</td>\n",
       "      <td>3.1</td>\n",
       "      <td>...</td>\n",
       "      <td>3.1</td>\n",
       "      <td>3.1</td>\n",
       "      <td>2.7</td>\n",
       "      <td>3.2</td>\n",
       "      <td>3.3</td>\n",
       "      <td>3.0</td>\n",
       "      <td>2.5</td>\n",
       "      <td>3.0</td>\n",
       "      <td>3.4</td>\n",
       "      <td>3.0</td>\n",
       "    </tr>\n",
       "    <tr>\n",
       "      <th>petal_length</th>\n",
       "      <td>1.4</td>\n",
       "      <td>1.4</td>\n",
       "      <td>1.3</td>\n",
       "      <td>1.5</td>\n",
       "      <td>1.4</td>\n",
       "      <td>1.7</td>\n",
       "      <td>1.4</td>\n",
       "      <td>1.5</td>\n",
       "      <td>1.4</td>\n",
       "      <td>1.5</td>\n",
       "      <td>...</td>\n",
       "      <td>5.6</td>\n",
       "      <td>5.1</td>\n",
       "      <td>5.1</td>\n",
       "      <td>5.9</td>\n",
       "      <td>5.7</td>\n",
       "      <td>5.2</td>\n",
       "      <td>5.0</td>\n",
       "      <td>5.2</td>\n",
       "      <td>5.4</td>\n",
       "      <td>5.1</td>\n",
       "    </tr>\n",
       "    <tr>\n",
       "      <th>petal_width</th>\n",
       "      <td>0.2</td>\n",
       "      <td>0.2</td>\n",
       "      <td>0.2</td>\n",
       "      <td>0.2</td>\n",
       "      <td>0.2</td>\n",
       "      <td>0.4</td>\n",
       "      <td>0.3</td>\n",
       "      <td>0.2</td>\n",
       "      <td>0.2</td>\n",
       "      <td>0.1</td>\n",
       "      <td>...</td>\n",
       "      <td>2.4</td>\n",
       "      <td>2.3</td>\n",
       "      <td>1.9</td>\n",
       "      <td>2.3</td>\n",
       "      <td>2.5</td>\n",
       "      <td>2.3</td>\n",
       "      <td>1.9</td>\n",
       "      <td>2.0</td>\n",
       "      <td>2.3</td>\n",
       "      <td>1.8</td>\n",
       "    </tr>\n",
       "  </tbody>\n",
       "</table>\n",
       "<p>4 rows × 150 columns</p>\n",
       "</div>"
      ],
      "text/plain": [
       "              0    1    2    3    4    5    6    7    8    9    ...  140  141  \\\n",
       "sepal_length  5.1  4.9  4.7  4.6  5.0  5.4  4.6  5.0  4.4  4.9  ...  6.7  6.9   \n",
       "sepal_width   3.5  3.0  3.2  3.1  3.6  3.9  3.4  3.4  2.9  3.1  ...  3.1  3.1   \n",
       "petal_length  1.4  1.4  1.3  1.5  1.4  1.7  1.4  1.5  1.4  1.5  ...  5.6  5.1   \n",
       "petal_width   0.2  0.2  0.2  0.2  0.2  0.4  0.3  0.2  0.2  0.1  ...  2.4  2.3   \n",
       "\n",
       "              142  143  144  145  146  147  148  149  \n",
       "sepal_length  5.8  6.8  6.7  6.7  6.3  6.5  6.2  5.9  \n",
       "sepal_width   2.7  3.2  3.3  3.0  2.5  3.0  3.4  3.0  \n",
       "petal_length  5.1  5.9  5.7  5.2  5.0  5.2  5.4  5.1  \n",
       "petal_width   1.9  2.3  2.5  2.3  1.9  2.0  2.3  1.8  \n",
       "\n",
       "[4 rows x 150 columns]"
      ]
     },
     "execution_count": 21,
     "metadata": {},
     "output_type": "execute_result"
    }
   ],
   "source": [
    "a_t"
   ]
  },
  {
   "cell_type": "code",
   "execution_count": 24,
   "id": "12e71248",
   "metadata": {},
   "outputs": [],
   "source": [
    "result = np.dot(a_t,a)"
   ]
  },
  {
   "cell_type": "code",
   "execution_count": 25,
   "id": "d3ff1780",
   "metadata": {},
   "outputs": [
    {
     "data": {
      "text/plain": [
       "array([[5223.85, 2673.43, 3483.76, 1128.14],\n",
       "       [2673.43, 1430.4 , 1674.3 ,  531.89],\n",
       "       [3483.76, 1674.3 , 2582.71,  869.11],\n",
       "       [1128.14,  531.89,  869.11,  302.33]])"
      ]
     },
     "execution_count": 25,
     "metadata": {},
     "output_type": "execute_result"
    }
   ],
   "source": [
    "result"
   ]
  },
  {
   "cell_type": "code",
   "execution_count": 30,
   "id": "4154878b",
   "metadata": {},
   "outputs": [],
   "source": [
    "eigh_value,eigh_vector=np.linalg.eigh(result)"
   ]
  },
  {
   "cell_type": "code",
   "execution_count": 31,
   "id": "516eb5f8",
   "metadata": {},
   "outputs": [
    {
     "data": {
      "text/plain": [
       "array([3.55257020e+00, 1.19780429e+01, 3.15454317e+02, 9.20830507e+03])"
      ]
     },
     "execution_count": 31,
     "metadata": {},
     "output_type": "execute_result"
    }
   ],
   "source": [
    "eigh_value"
   ]
  },
  {
   "cell_type": "code",
   "execution_count": 32,
   "id": "89cafa53",
   "metadata": {},
   "outputs": [
    {
     "data": {
      "text/plain": [
       "array([[ 0.32081425,  0.50215472,  0.2841749 , -0.75110816],\n",
       "       [-0.31725607, -0.67524332,  0.5467445 , -0.38008617],\n",
       "       [-0.48074507, -0.05916621, -0.70866455, -0.51300886],\n",
       "       [ 0.75187165, -0.53701625, -0.34367081, -0.16790754]])"
      ]
     },
     "execution_count": 32,
     "metadata": {},
     "output_type": "execute_result"
    }
   ],
   "source": [
    "eigh_vector"
   ]
  },
  {
   "cell_type": "code",
   "execution_count": 48,
   "id": "481f9dc4",
   "metadata": {},
   "outputs": [
    {
     "data": {
      "text/html": [
       "<div>\n",
       "<style scoped>\n",
       "    .dataframe tbody tr th:only-of-type {\n",
       "        vertical-align: middle;\n",
       "    }\n",
       "\n",
       "    .dataframe tbody tr th {\n",
       "        vertical-align: top;\n",
       "    }\n",
       "\n",
       "    .dataframe thead th {\n",
       "        text-align: right;\n",
       "    }\n",
       "</style>\n",
       "<table border=\"1\" class=\"dataframe\">\n",
       "  <thead>\n",
       "    <tr style=\"text-align: right;\">\n",
       "      <th></th>\n",
       "      <th>0</th>\n",
       "      <th>1</th>\n",
       "      <th>2</th>\n",
       "      <th>3</th>\n",
       "    </tr>\n",
       "  </thead>\n",
       "  <tbody>\n",
       "    <tr>\n",
       "      <th>0</th>\n",
       "      <td>0.003088</td>\n",
       "      <td>0.007402</td>\n",
       "      <td>2.302033</td>\n",
       "      <td>-5.912747</td>\n",
       "    </tr>\n",
       "    <tr>\n",
       "      <th>1</th>\n",
       "      <td>0.097553</td>\n",
       "      <td>0.244592</td>\n",
       "      <td>1.971826</td>\n",
       "      <td>-5.572482</td>\n",
       "    </tr>\n",
       "    <tr>\n",
       "      <th>2</th>\n",
       "      <td>0.018013</td>\n",
       "      <td>0.015029</td>\n",
       "      <td>2.095206</td>\n",
       "      <td>-5.446977</td>\n",
       "    </tr>\n",
       "    <tr>\n",
       "      <th>3</th>\n",
       "      <td>-0.078492</td>\n",
       "      <td>0.020505</td>\n",
       "      <td>1.870382</td>\n",
       "      <td>-5.436459</td>\n",
       "    </tr>\n",
       "    <tr>\n",
       "      <th>4</th>\n",
       "      <td>-0.060719</td>\n",
       "      <td>-0.110338</td>\n",
       "      <td>2.328290</td>\n",
       "      <td>-5.875645</td>\n",
       "    </tr>\n",
       "    <tr>\n",
       "      <th>...</th>\n",
       "      <td>...</td>\n",
       "      <td>...</td>\n",
       "      <td>...</td>\n",
       "      <td>...</td>\n",
       "    </tr>\n",
       "    <tr>\n",
       "      <th>145</th>\n",
       "      <td>0.427118</td>\n",
       "      <td>-0.204095</td>\n",
       "      <td>-0.931293</td>\n",
       "      <td>-9.226517</td>\n",
       "    </tr>\n",
       "    <tr>\n",
       "      <th>146</th>\n",
       "      <td>0.252820</td>\n",
       "      <td>0.159305</td>\n",
       "      <td>-1.039134</td>\n",
       "      <td>-8.566265</td>\n",
       "    </tr>\n",
       "    <tr>\n",
       "      <th>147</th>\n",
       "      <td>0.137393</td>\n",
       "      <td>-0.143421</td>\n",
       "      <td>-0.885027</td>\n",
       "      <td>-9.025923</td>\n",
       "    </tr>\n",
       "    <tr>\n",
       "      <th>148</th>\n",
       "      <td>0.043659</td>\n",
       "      <td>-0.737103</td>\n",
       "      <td>-0.996416</td>\n",
       "      <td>-9.105599</td>\n",
       "    </tr>\n",
       "    <tr>\n",
       "      <th>149</th>\n",
       "      <td>-0.157395</td>\n",
       "      <td>-0.331394</td>\n",
       "      <td>-0.915931</td>\n",
       "      <td>-8.490375</td>\n",
       "    </tr>\n",
       "  </tbody>\n",
       "</table>\n",
       "<p>150 rows × 4 columns</p>\n",
       "</div>"
      ],
      "text/plain": [
       "            0         1         2         3\n",
       "0    0.003088  0.007402  2.302033 -5.912747\n",
       "1    0.097553  0.244592  1.971826 -5.572482\n",
       "2    0.018013  0.015029  2.095206 -5.446977\n",
       "3   -0.078492  0.020505  1.870382 -5.436459\n",
       "4   -0.060719 -0.110338  2.328290 -5.875645\n",
       "..        ...       ...       ...       ...\n",
       "145  0.427118 -0.204095 -0.931293 -9.226517\n",
       "146  0.252820  0.159305 -1.039134 -8.566265\n",
       "147  0.137393 -0.143421 -0.885027 -9.025923\n",
       "148  0.043659 -0.737103 -0.996416 -9.105599\n",
       "149 -0.157395 -0.331394 -0.915931 -8.490375\n",
       "\n",
       "[150 rows x 4 columns]"
      ]
     },
     "execution_count": 48,
     "metadata": {},
     "output_type": "execute_result"
    }
   ],
   "source": [
    "Z=np.dot(a,eigh_vector)\n",
    "z=pd.DataFrame(Z)\n",
    "z"
   ]
  },
  {
   "cell_type": "code",
   "execution_count": 63,
   "id": "d272c1fb",
   "metadata": {},
   "outputs": [],
   "source": [
    "z1=z[0]"
   ]
  },
  {
   "cell_type": "code",
   "execution_count": 64,
   "id": "c41aade3",
   "metadata": {},
   "outputs": [
    {
     "data": {
      "text/plain": [
       "0      0.003088\n",
       "1      0.097553\n",
       "2      0.018013\n",
       "3     -0.078492\n",
       "4     -0.060719\n",
       "         ...   \n",
       "145    0.427118\n",
       "146    0.252820\n",
       "147    0.137393\n",
       "148    0.043659\n",
       "149   -0.157395\n",
       "Name: 0, Length: 150, dtype: float64"
      ]
     },
     "execution_count": 64,
     "metadata": {},
     "output_type": "execute_result"
    }
   ],
   "source": [
    "z1"
   ]
  },
  {
   "cell_type": "code",
   "execution_count": 62,
   "id": "c895890c",
   "metadata": {},
   "outputs": [
    {
     "data": {
      "text/plain": [
       "0      0.007402\n",
       "1      0.244592\n",
       "2      0.015029\n",
       "3      0.020505\n",
       "4     -0.110338\n",
       "         ...   \n",
       "145   -0.204095\n",
       "146    0.159305\n",
       "147   -0.143421\n",
       "148   -0.737103\n",
       "149   -0.331394\n",
       "Name: 1, Length: 150, dtype: float64"
      ]
     },
     "execution_count": 62,
     "metadata": {},
     "output_type": "execute_result"
    }
   ],
   "source": [
    "z2=z[1]\n",
    "z2"
   ]
  },
  {
   "cell_type": "code",
   "execution_count": 66,
   "id": "c4b9b37d",
   "metadata": {},
   "outputs": [
    {
     "data": {
      "text/plain": [
       "0      2.302033\n",
       "1      1.971826\n",
       "2      2.095206\n",
       "3      1.870382\n",
       "4      2.328290\n",
       "         ...   \n",
       "145   -0.931293\n",
       "146   -1.039134\n",
       "147   -0.885027\n",
       "148   -0.996416\n",
       "149   -0.915931\n",
       "Name: 2, Length: 150, dtype: float64"
      ]
     },
     "execution_count": 66,
     "metadata": {},
     "output_type": "execute_result"
    }
   ],
   "source": [
    "z3=z[2]\n",
    "z3"
   ]
  },
  {
   "cell_type": "code",
   "execution_count": 67,
   "id": "5cca3177",
   "metadata": {},
   "outputs": [
    {
     "data": {
      "text/plain": [
       "0     -5.912747\n",
       "1     -5.572482\n",
       "2     -5.446977\n",
       "3     -5.436459\n",
       "4     -5.875645\n",
       "         ...   \n",
       "145   -9.226517\n",
       "146   -8.566265\n",
       "147   -9.025923\n",
       "148   -9.105599\n",
       "149   -8.490375\n",
       "Name: 3, Length: 150, dtype: float64"
      ]
     },
     "execution_count": 67,
     "metadata": {},
     "output_type": "execute_result"
    }
   ],
   "source": [
    "z4=z[3]\n",
    "z4"
   ]
  },
  {
   "cell_type": "code",
   "execution_count": 74,
   "id": "e658d350",
   "metadata": {},
   "outputs": [
    {
     "data": {
      "text/plain": [
       "(0      0.003088\n",
       " 1      0.097553\n",
       " 2      0.018013\n",
       " 3     -0.078492\n",
       " 4     -0.060719\n",
       "          ...   \n",
       " 145    0.427118\n",
       " 146    0.252820\n",
       " 147    0.137393\n",
       " 148    0.043659\n",
       " 149   -0.157395\n",
       " Name: 0, Length: 150, dtype: float64,\n",
       " 0      0.007402\n",
       " 1      0.244592\n",
       " 2      0.015029\n",
       " 3      0.020505\n",
       " 4     -0.110338\n",
       "          ...   \n",
       " 145   -0.204095\n",
       " 146    0.159305\n",
       " 147   -0.143421\n",
       " 148   -0.737103\n",
       " 149   -0.331394\n",
       " Name: 1, Length: 150, dtype: float64,\n",
       " 0      2.302033\n",
       " 1      1.971826\n",
       " 2      2.095206\n",
       " 3      1.870382\n",
       " 4      2.328290\n",
       "          ...   \n",
       " 145   -0.931293\n",
       " 146   -1.039134\n",
       " 147   -0.885027\n",
       " 148   -0.996416\n",
       " 149   -0.915931\n",
       " Name: 2, Length: 150, dtype: float64,\n",
       " 0     -5.912747\n",
       " 1     -5.572482\n",
       " 2     -5.446977\n",
       " 3     -5.436459\n",
       " 4     -5.875645\n",
       "          ...   \n",
       " 145   -9.226517\n",
       " 146   -8.566265\n",
       " 147   -9.025923\n",
       " 148   -9.105599\n",
       " 149   -8.490375\n",
       " Name: 3, Length: 150, dtype: float64)"
      ]
     },
     "execution_count": 74,
     "metadata": {},
     "output_type": "execute_result"
    }
   ],
   "source": [
    "z1,z2,z3,z4"
   ]
  },
  {
   "cell_type": "code",
   "execution_count": 77,
   "id": "5a4c9d37",
   "metadata": {},
   "outputs": [
    {
     "data": {
      "text/html": [
       "<div>\n",
       "<style scoped>\n",
       "    .dataframe tbody tr th:only-of-type {\n",
       "        vertical-align: middle;\n",
       "    }\n",
       "\n",
       "    .dataframe tbody tr th {\n",
       "        vertical-align: top;\n",
       "    }\n",
       "\n",
       "    .dataframe thead th {\n",
       "        text-align: right;\n",
       "    }\n",
       "</style>\n",
       "<table border=\"1\" class=\"dataframe\">\n",
       "  <thead>\n",
       "    <tr style=\"text-align: right;\">\n",
       "      <th></th>\n",
       "      <th>Z1</th>\n",
       "      <th>Z2</th>\n",
       "      <th>Z3</th>\n",
       "      <th>Z4</th>\n",
       "    </tr>\n",
       "  </thead>\n",
       "  <tbody>\n",
       "    <tr>\n",
       "      <th>0</th>\n",
       "      <td>0.003088</td>\n",
       "      <td>0.007402</td>\n",
       "      <td>2.302033</td>\n",
       "      <td>-5.912747</td>\n",
       "    </tr>\n",
       "    <tr>\n",
       "      <th>1</th>\n",
       "      <td>0.097553</td>\n",
       "      <td>0.244592</td>\n",
       "      <td>1.971826</td>\n",
       "      <td>-5.572482</td>\n",
       "    </tr>\n",
       "    <tr>\n",
       "      <th>2</th>\n",
       "      <td>0.018013</td>\n",
       "      <td>0.015029</td>\n",
       "      <td>2.095206</td>\n",
       "      <td>-5.446977</td>\n",
       "    </tr>\n",
       "    <tr>\n",
       "      <th>3</th>\n",
       "      <td>-0.078492</td>\n",
       "      <td>0.020505</td>\n",
       "      <td>1.870382</td>\n",
       "      <td>-5.436459</td>\n",
       "    </tr>\n",
       "    <tr>\n",
       "      <th>4</th>\n",
       "      <td>-0.060719</td>\n",
       "      <td>-0.110338</td>\n",
       "      <td>2.328290</td>\n",
       "      <td>-5.875645</td>\n",
       "    </tr>\n",
       "    <tr>\n",
       "      <th>...</th>\n",
       "      <td>...</td>\n",
       "      <td>...</td>\n",
       "      <td>...</td>\n",
       "      <td>...</td>\n",
       "    </tr>\n",
       "    <tr>\n",
       "      <th>145</th>\n",
       "      <td>0.427118</td>\n",
       "      <td>-0.204095</td>\n",
       "      <td>-0.931293</td>\n",
       "      <td>-9.226517</td>\n",
       "    </tr>\n",
       "    <tr>\n",
       "      <th>146</th>\n",
       "      <td>0.252820</td>\n",
       "      <td>0.159305</td>\n",
       "      <td>-1.039134</td>\n",
       "      <td>-8.566265</td>\n",
       "    </tr>\n",
       "    <tr>\n",
       "      <th>147</th>\n",
       "      <td>0.137393</td>\n",
       "      <td>-0.143421</td>\n",
       "      <td>-0.885027</td>\n",
       "      <td>-9.025923</td>\n",
       "    </tr>\n",
       "    <tr>\n",
       "      <th>148</th>\n",
       "      <td>0.043659</td>\n",
       "      <td>-0.737103</td>\n",
       "      <td>-0.996416</td>\n",
       "      <td>-9.105599</td>\n",
       "    </tr>\n",
       "    <tr>\n",
       "      <th>149</th>\n",
       "      <td>-0.157395</td>\n",
       "      <td>-0.331394</td>\n",
       "      <td>-0.915931</td>\n",
       "      <td>-8.490375</td>\n",
       "    </tr>\n",
       "  </tbody>\n",
       "</table>\n",
       "<p>150 rows × 4 columns</p>\n",
       "</div>"
      ],
      "text/plain": [
       "           Z1        Z2        Z3        Z4\n",
       "0    0.003088  0.007402  2.302033 -5.912747\n",
       "1    0.097553  0.244592  1.971826 -5.572482\n",
       "2    0.018013  0.015029  2.095206 -5.446977\n",
       "3   -0.078492  0.020505  1.870382 -5.436459\n",
       "4   -0.060719 -0.110338  2.328290 -5.875645\n",
       "..        ...       ...       ...       ...\n",
       "145  0.427118 -0.204095 -0.931293 -9.226517\n",
       "146  0.252820  0.159305 -1.039134 -8.566265\n",
       "147  0.137393 -0.143421 -0.885027 -9.025923\n",
       "148  0.043659 -0.737103 -0.996416 -9.105599\n",
       "149 -0.157395 -0.331394 -0.915931 -8.490375\n",
       "\n",
       "[150 rows x 4 columns]"
      ]
     },
     "execution_count": 77,
     "metadata": {},
     "output_type": "execute_result"
    }
   ],
   "source": [
    "pd.DataFrame({\"Z1\":z1,\"Z2\":z2,\"Z3\":z3,\"Z4\":z4})"
   ]
  },
  {
   "cell_type": "code",
   "execution_count": 78,
   "id": "c00f5305",
   "metadata": {},
   "outputs": [
    {
     "data": {
      "text/plain": [
       "array([3.55257020e+00, 1.19780429e+01, 3.15454317e+02, 9.20830507e+03])"
      ]
     },
     "execution_count": 78,
     "metadata": {},
     "output_type": "execute_result"
    }
   ],
   "source": [
    "eigh_value"
   ]
  },
  {
   "cell_type": "code",
   "execution_count": 83,
   "id": "391b3189",
   "metadata": {},
   "outputs": [
    {
     "data": {
      "text/plain": [
       "18735.617027409935"
      ]
     },
     "execution_count": 83,
     "metadata": {},
     "output_type": "execute_result"
    }
   ],
   "source": [
    "sum=eigh_value[0]+eigh_value[2]+eigh_value[3]+eigh_value[3]\n",
    "sum"
   ]
  },
  {
   "cell_type": "code",
   "execution_count": 84,
   "id": "84706d0c",
   "metadata": {},
   "outputs": [
    {
     "data": {
      "text/plain": [
       "0.0001896158636400052"
      ]
     },
     "execution_count": 84,
     "metadata": {},
     "output_type": "execute_result"
    }
   ],
   "source": [
    "eigh_value[0]/sum"
   ]
  },
  {
   "cell_type": "code",
   "execution_count": null,
   "id": "8e926a49",
   "metadata": {},
   "outputs": [],
   "source": []
  }
 ],
 "metadata": {
  "kernelspec": {
   "display_name": "Python 3 (ipykernel)",
   "language": "python",
   "name": "python3"
  },
  "language_info": {
   "codemirror_mode": {
    "name": "ipython",
    "version": 3
   },
   "file_extension": ".py",
   "mimetype": "text/x-python",
   "name": "python",
   "nbconvert_exporter": "python",
   "pygments_lexer": "ipython3",
   "version": "3.9.12"
  }
 },
 "nbformat": 4,
 "nbformat_minor": 5
}
