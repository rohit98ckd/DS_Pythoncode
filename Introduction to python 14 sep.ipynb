{
 "cells": [
  {
   "cell_type": "raw",
   "id": "d173a83b",
   "metadata": {},
   "source": [
    "# basic alg operator\n",
    "# variables in python\n",
    "# datatypes and containers \n",
    "# for loops\n",
    "# if else elif condition\n",
    "# functions\n",
    "# list comprehension\n",
    "# lambda functions\n",
    "# exception handling \n",
    "# recursion "
   ]
  },
  {
   "cell_type": "markdown",
   "id": "8847e57c",
   "metadata": {},
   "source": [
    "#  basic alg operator"
   ]
  },
  {
   "cell_type": "code",
   "execution_count": null,
   "id": "a00f3c34",
   "metadata": {},
   "outputs": [],
   "source": [
    "+,-,*,/"
   ]
  },
  {
   "cell_type": "code",
   "execution_count": 5,
   "id": "65efbfd1",
   "metadata": {},
   "outputs": [
    {
     "data": {
      "text/plain": [
       "1"
      ]
     },
     "execution_count": 5,
     "metadata": {},
     "output_type": "execute_result"
    }
   ],
   "source": [
    "25%8"
   ]
  },
  {
   "cell_type": "code",
   "execution_count": 6,
   "id": "24d4337b",
   "metadata": {},
   "outputs": [
    {
     "data": {
      "text/plain": [
       "3"
      ]
     },
     "execution_count": 6,
     "metadata": {},
     "output_type": "execute_result"
    }
   ],
   "source": [
    "25//8"
   ]
  },
  {
   "cell_type": "code",
   "execution_count": 7,
   "id": "62dad344",
   "metadata": {},
   "outputs": [
    {
     "data": {
      "text/plain": [
       "25"
      ]
     },
     "execution_count": 7,
     "metadata": {},
     "output_type": "execute_result"
    }
   ],
   "source": [
    "5**2"
   ]
  },
  {
   "cell_type": "code",
   "execution_count": 8,
   "id": "4f2b016a",
   "metadata": {},
   "outputs": [
    {
     "data": {
      "text/plain": [
       "25"
      ]
     },
     "execution_count": 8,
     "metadata": {},
     "output_type": "execute_result"
    }
   ],
   "source": [
    "pow(5,2)"
   ]
  },
  {
   "cell_type": "markdown",
   "id": "f2126652",
   "metadata": {},
   "source": [
    "# variables in python"
   ]
  },
  {
   "cell_type": "code",
   "execution_count": 9,
   "id": "4bc62ee8",
   "metadata": {},
   "outputs": [],
   "source": [
    "x=34"
   ]
  },
  {
   "cell_type": "code",
   "execution_count": 10,
   "id": "166c24da",
   "metadata": {},
   "outputs": [
    {
     "data": {
      "text/plain": [
       "140412144774480"
      ]
     },
     "execution_count": 10,
     "metadata": {},
     "output_type": "execute_result"
    }
   ],
   "source": [
    "id(x)"
   ]
  },
  {
   "cell_type": "code",
   "execution_count": 11,
   "id": "ff2bc7d3",
   "metadata": {},
   "outputs": [
    {
     "data": {
      "text/plain": [
       "34"
      ]
     },
     "execution_count": 11,
     "metadata": {},
     "output_type": "execute_result"
    }
   ],
   "source": [
    "x"
   ]
  },
  {
   "cell_type": "code",
   "execution_count": 14,
   "id": "592a44a3",
   "metadata": {},
   "outputs": [],
   "source": [
    "y=34"
   ]
  },
  {
   "cell_type": "code",
   "execution_count": 15,
   "id": "c41c2e57",
   "metadata": {},
   "outputs": [
    {
     "data": {
      "text/plain": [
       "140412144774480"
      ]
     },
     "execution_count": 15,
     "metadata": {},
     "output_type": "execute_result"
    }
   ],
   "source": [
    "id(y)"
   ]
  },
  {
   "cell_type": "code",
   "execution_count": 16,
   "id": "e7623f7a",
   "metadata": {},
   "outputs": [],
   "source": [
    "x=x+1"
   ]
  },
  {
   "cell_type": "code",
   "execution_count": 17,
   "id": "c8ee7820",
   "metadata": {},
   "outputs": [
    {
     "data": {
      "text/plain": [
       "35"
      ]
     },
     "execution_count": 17,
     "metadata": {},
     "output_type": "execute_result"
    }
   ],
   "source": [
    "x"
   ]
  },
  {
   "cell_type": "code",
   "execution_count": 18,
   "id": "406c7846",
   "metadata": {},
   "outputs": [
    {
     "data": {
      "text/plain": [
       "34"
      ]
     },
     "execution_count": 18,
     "metadata": {},
     "output_type": "execute_result"
    }
   ],
   "source": [
    "y"
   ]
  },
  {
   "cell_type": "code",
   "execution_count": 19,
   "id": "b8e7c19d",
   "metadata": {},
   "outputs": [
    {
     "data": {
      "text/plain": [
       "140412144774512"
      ]
     },
     "execution_count": 19,
     "metadata": {},
     "output_type": "execute_result"
    }
   ],
   "source": [
    "id(x)"
   ]
  },
  {
   "cell_type": "code",
   "execution_count": 20,
   "id": "2a681f60",
   "metadata": {},
   "outputs": [
    {
     "data": {
      "text/plain": [
       "140412144774480"
      ]
     },
     "execution_count": 20,
     "metadata": {},
     "output_type": "execute_result"
    }
   ],
   "source": [
    "id(y)"
   ]
  },
  {
   "cell_type": "code",
   "execution_count": 23,
   "id": "854c7578",
   "metadata": {},
   "outputs": [],
   "source": [
    "v1=10\n",
    "_v_=10\n",
    "_=10\n",
    "_1_v2=12\n",
    "_1_1_1=23\n"
   ]
  },
  {
   "cell_type": "code",
   "execution_count": 24,
   "id": "e05afe0a",
   "metadata": {},
   "outputs": [],
   "source": [
    "x=10\n",
    "y=20"
   ]
  },
  {
   "cell_type": "code",
   "execution_count": 25,
   "id": "6f9184bd",
   "metadata": {},
   "outputs": [],
   "source": [
    "tem=x\n",
    "x=y\n",
    "y=tem"
   ]
  },
  {
   "cell_type": "code",
   "execution_count": 28,
   "id": "f3c56467",
   "metadata": {},
   "outputs": [],
   "source": [
    "x=10\n",
    "y=20\n",
    "\n",
    "x,y=y,x\n"
   ]
  },
  {
   "cell_type": "code",
   "execution_count": 30,
   "id": "dba6d6c1",
   "metadata": {},
   "outputs": [],
   "source": [
    "a,b,c,d=1,2,3,4"
   ]
  },
  {
   "cell_type": "markdown",
   "id": "f8e84d0e",
   "metadata": {},
   "source": [
    "# datatypes and containers "
   ]
  },
  {
   "cell_type": "raw",
   "id": "7360fc1c",
   "metadata": {},
   "source": [
    "int\n",
    "float\n",
    "str\n",
    "bool\n",
    "\n",
    "list\n",
    "tuple\n",
    "set \n",
    "dict"
   ]
  },
  {
   "cell_type": "markdown",
   "id": "bd7094b5",
   "metadata": {},
   "source": [
    "# int and float"
   ]
  },
  {
   "cell_type": "code",
   "execution_count": 34,
   "id": "07b9b90f",
   "metadata": {},
   "outputs": [],
   "source": [
    "x=19\n",
    "y=12.0"
   ]
  },
  {
   "cell_type": "code",
   "execution_count": 35,
   "id": "c3e19a22",
   "metadata": {},
   "outputs": [
    {
     "data": {
      "text/plain": [
       "int"
      ]
     },
     "execution_count": 35,
     "metadata": {},
     "output_type": "execute_result"
    }
   ],
   "source": [
    "type(x)"
   ]
  },
  {
   "cell_type": "code",
   "execution_count": 36,
   "id": "af351c08",
   "metadata": {},
   "outputs": [
    {
     "data": {
      "text/plain": [
       "float"
      ]
     },
     "execution_count": 36,
     "metadata": {},
     "output_type": "execute_result"
    }
   ],
   "source": [
    "type(y)"
   ]
  },
  {
   "cell_type": "code",
   "execution_count": 38,
   "id": "9a7e6dca",
   "metadata": {},
   "outputs": [
    {
     "data": {
      "text/plain": [
       "19"
      ]
     },
     "execution_count": 38,
     "metadata": {},
     "output_type": "execute_result"
    }
   ],
   "source": [
    "x=19\n",
    "x=float(x)\n",
    "x=int(x)\n",
    "x"
   ]
  },
  {
   "cell_type": "code",
   "execution_count": 39,
   "id": "e5666efc",
   "metadata": {},
   "outputs": [
    {
     "data": {
      "text/plain": [
       "19.0"
      ]
     },
     "execution_count": 39,
     "metadata": {},
     "output_type": "execute_result"
    }
   ],
   "source": [
    "x=19.8\n",
    "x=int(x)\n",
    "x=float(x)\n",
    "x"
   ]
  },
  {
   "cell_type": "markdown",
   "id": "cc49e06c",
   "metadata": {},
   "source": [
    "# str"
   ]
  },
  {
   "cell_type": "code",
   "execution_count": 40,
   "id": "efbfc876",
   "metadata": {},
   "outputs": [],
   "source": [
    "#collection of characters "
   ]
  },
  {
   "cell_type": "code",
   "execution_count": 56,
   "id": "03a0ba27",
   "metadata": {},
   "outputs": [],
   "source": [
    "x='python'\n",
    "y=\"python\"\n",
    "z='''python'''"
   ]
  },
  {
   "cell_type": "code",
   "execution_count": 42,
   "id": "20fa1954",
   "metadata": {},
   "outputs": [
    {
     "data": {
      "text/plain": [
       "140411209105904"
      ]
     },
     "execution_count": 42,
     "metadata": {},
     "output_type": "execute_result"
    }
   ],
   "source": [
    "id(x)"
   ]
  },
  {
   "cell_type": "code",
   "execution_count": 43,
   "id": "92a403df",
   "metadata": {},
   "outputs": [
    {
     "data": {
      "text/plain": [
       "140411209105904"
      ]
     },
     "execution_count": 43,
     "metadata": {},
     "output_type": "execute_result"
    }
   ],
   "source": [
    "id(y)"
   ]
  },
  {
   "cell_type": "code",
   "execution_count": 44,
   "id": "e3cb3009",
   "metadata": {},
   "outputs": [
    {
     "data": {
      "text/plain": [
       "140411209105904"
      ]
     },
     "execution_count": 44,
     "metadata": {},
     "output_type": "execute_result"
    }
   ],
   "source": [
    "id(z)"
   ]
  },
  {
   "cell_type": "code",
   "execution_count": 45,
   "id": "4450cc7e",
   "metadata": {},
   "outputs": [
    {
     "data": {
      "text/plain": [
       "'pythonpython'"
      ]
     },
     "execution_count": 45,
     "metadata": {},
     "output_type": "execute_result"
    }
   ],
   "source": [
    "x+x"
   ]
  },
  {
   "cell_type": "code",
   "execution_count": 46,
   "id": "158fd6b9",
   "metadata": {},
   "outputs": [
    {
     "data": {
      "text/plain": [
       "'pythonpythonpython'"
      ]
     },
     "execution_count": 46,
     "metadata": {},
     "output_type": "execute_result"
    }
   ],
   "source": [
    "x*3"
   ]
  },
  {
   "cell_type": "code",
   "execution_count": 47,
   "id": "1ae8132f",
   "metadata": {},
   "outputs": [
    {
     "data": {
      "text/plain": [
       "'python'"
      ]
     },
     "execution_count": 47,
     "metadata": {},
     "output_type": "execute_result"
    }
   ],
   "source": [
    "x"
   ]
  },
  {
   "cell_type": "code",
   "execution_count": 48,
   "id": "b8331a72",
   "metadata": {},
   "outputs": [
    {
     "data": {
      "text/plain": [
       "'o'"
      ]
     },
     "execution_count": 48,
     "metadata": {},
     "output_type": "execute_result"
    }
   ],
   "source": [
    "x[4]"
   ]
  },
  {
   "cell_type": "code",
   "execution_count": 55,
   "id": "b4c1f5af",
   "metadata": {},
   "outputs": [
    {
     "data": {
      "text/plain": [
       "3"
      ]
     },
     "execution_count": 55,
     "metadata": {},
     "output_type": "execute_result"
    }
   ],
   "source": [
    "x.index('h')"
   ]
  },
  {
   "cell_type": "code",
   "execution_count": 50,
   "id": "1ac1630b",
   "metadata": {},
   "outputs": [
    {
     "data": {
      "text/plain": [
       "3"
      ]
     },
     "execution_count": 50,
     "metadata": {},
     "output_type": "execute_result"
    }
   ],
   "source": [
    "x.find('h')"
   ]
  },
  {
   "cell_type": "code",
   "execution_count": 52,
   "id": "9d2c83ae",
   "metadata": {},
   "outputs": [
    {
     "data": {
      "text/plain": [
       "0"
      ]
     },
     "execution_count": 52,
     "metadata": {},
     "output_type": "execute_result"
    }
   ],
   "source": [
    "x.count('m')"
   ]
  },
  {
   "cell_type": "code",
   "execution_count": 53,
   "id": "718d5288",
   "metadata": {},
   "outputs": [
    {
     "data": {
      "text/plain": [
       "6"
      ]
     },
     "execution_count": 53,
     "metadata": {},
     "output_type": "execute_result"
    }
   ],
   "source": [
    "len(x)"
   ]
  },
  {
   "cell_type": "code",
   "execution_count": 57,
   "id": "3c23a12a",
   "metadata": {},
   "outputs": [
    {
     "data": {
      "text/plain": [
       "'python'"
      ]
     },
     "execution_count": 57,
     "metadata": {},
     "output_type": "execute_result"
    }
   ],
   "source": [
    "x"
   ]
  },
  {
   "cell_type": "code",
   "execution_count": 58,
   "id": "262ab3e6",
   "metadata": {},
   "outputs": [
    {
     "data": {
      "text/plain": [
       "'PYTHON'"
      ]
     },
     "execution_count": 58,
     "metadata": {},
     "output_type": "execute_result"
    }
   ],
   "source": [
    "x.upper()"
   ]
  },
  {
   "cell_type": "code",
   "execution_count": 59,
   "id": "87f24ad8",
   "metadata": {},
   "outputs": [
    {
     "data": {
      "text/plain": [
       "'python'"
      ]
     },
     "execution_count": 59,
     "metadata": {},
     "output_type": "execute_result"
    }
   ],
   "source": [
    "x.lower()"
   ]
  },
  {
   "cell_type": "code",
   "execution_count": 60,
   "id": "072241b7",
   "metadata": {},
   "outputs": [
    {
     "data": {
      "text/plain": [
       "'Python'"
      ]
     },
     "execution_count": 60,
     "metadata": {},
     "output_type": "execute_result"
    }
   ],
   "source": [
    "x.capitalize()"
   ]
  },
  {
   "cell_type": "code",
   "execution_count": 61,
   "id": "c112e822",
   "metadata": {},
   "outputs": [
    {
     "data": {
      "text/plain": [
       "False"
      ]
     },
     "execution_count": 61,
     "metadata": {},
     "output_type": "execute_result"
    }
   ],
   "source": [
    "x.isupper()"
   ]
  },
  {
   "cell_type": "code",
   "execution_count": 62,
   "id": "f5b2d7e7",
   "metadata": {},
   "outputs": [
    {
     "data": {
      "text/plain": [
       "True"
      ]
     },
     "execution_count": 62,
     "metadata": {},
     "output_type": "execute_result"
    }
   ],
   "source": [
    "x.islower()"
   ]
  },
  {
   "cell_type": "code",
   "execution_count": 63,
   "id": "8f27b477",
   "metadata": {},
   "outputs": [
    {
     "data": {
      "text/plain": [
       "False"
      ]
     },
     "execution_count": 63,
     "metadata": {},
     "output_type": "execute_result"
    }
   ],
   "source": [
    "x.isnumeric()"
   ]
  },
  {
   "cell_type": "code",
   "execution_count": 64,
   "id": "522cc23e",
   "metadata": {},
   "outputs": [
    {
     "data": {
      "text/plain": [
       "True"
      ]
     },
     "execution_count": 64,
     "metadata": {},
     "output_type": "execute_result"
    }
   ],
   "source": [
    "x.isalnum()"
   ]
  },
  {
   "cell_type": "code",
   "execution_count": 65,
   "id": "b728434d",
   "metadata": {},
   "outputs": [
    {
     "data": {
      "text/plain": [
       "True"
      ]
     },
     "execution_count": 65,
     "metadata": {},
     "output_type": "execute_result"
    }
   ],
   "source": [
    "x.isalpha()"
   ]
  },
  {
   "cell_type": "code",
   "execution_count": 66,
   "id": "4d33c565",
   "metadata": {},
   "outputs": [
    {
     "data": {
      "text/plain": [
       "'python'"
      ]
     },
     "execution_count": 66,
     "metadata": {},
     "output_type": "execute_result"
    }
   ],
   "source": [
    "x"
   ]
  },
  {
   "cell_type": "code",
   "execution_count": 67,
   "id": "a9107ec3",
   "metadata": {},
   "outputs": [
    {
     "data": {
      "text/plain": [
       "'h'"
      ]
     },
     "execution_count": 67,
     "metadata": {},
     "output_type": "execute_result"
    }
   ],
   "source": [
    "x[3]"
   ]
  },
  {
   "cell_type": "code",
   "execution_count": 68,
   "id": "be8bdc4c",
   "metadata": {},
   "outputs": [],
   "source": [
    "x='kython'"
   ]
  },
  {
   "cell_type": "code",
   "execution_count": 70,
   "id": "55fe6be2",
   "metadata": {
    "scrolled": true
   },
   "outputs": [
    {
     "ename": "TypeError",
     "evalue": "'str' object does not support item assignment",
     "output_type": "error",
     "traceback": [
      "\u001b[0;31m---------------------------------------------------------------------------\u001b[0m",
      "\u001b[0;31mTypeError\u001b[0m                                 Traceback (most recent call last)",
      "Input \u001b[0;32mIn [70]\u001b[0m, in \u001b[0;36m<cell line: 1>\u001b[0;34m()\u001b[0m\n\u001b[0;32m----> 1\u001b[0m x[\u001b[38;5;241m0\u001b[39m]\u001b[38;5;241m=\u001b[39m\u001b[38;5;124m'\u001b[39m\u001b[38;5;124mp\u001b[39m\u001b[38;5;124m'\u001b[39m\n",
      "\u001b[0;31mTypeError\u001b[0m: 'str' object does not support item assignment"
     ]
    }
   ],
   "source": [
    "x[0]='p'"
   ]
  },
  {
   "cell_type": "code",
   "execution_count": 73,
   "id": "159302fc",
   "metadata": {},
   "outputs": [
    {
     "data": {
      "text/plain": [
       "140411347572848"
      ]
     },
     "execution_count": 73,
     "metadata": {},
     "output_type": "execute_result"
    }
   ],
   "source": [
    "id(x)"
   ]
  },
  {
   "cell_type": "code",
   "execution_count": 74,
   "id": "fbde0ea8",
   "metadata": {},
   "outputs": [],
   "source": [
    "x=x.replace('k','p')"
   ]
  },
  {
   "cell_type": "code",
   "execution_count": 75,
   "id": "5ae80b13",
   "metadata": {},
   "outputs": [
    {
     "data": {
      "text/plain": [
       "140411348002480"
      ]
     },
     "execution_count": 75,
     "metadata": {},
     "output_type": "execute_result"
    }
   ],
   "source": [
    "id(x)"
   ]
  },
  {
   "cell_type": "markdown",
   "id": "8865ed9c",
   "metadata": {},
   "source": [
    "# bool"
   ]
  },
  {
   "cell_type": "code",
   "execution_count": 76,
   "id": "e5f009a7",
   "metadata": {},
   "outputs": [],
   "source": [
    "x=12"
   ]
  },
  {
   "cell_type": "code",
   "execution_count": 77,
   "id": "cf283db7",
   "metadata": {},
   "outputs": [
    {
     "data": {
      "text/plain": [
       "True"
      ]
     },
     "execution_count": 77,
     "metadata": {},
     "output_type": "execute_result"
    }
   ],
   "source": [
    "x==9+3"
   ]
  },
  {
   "cell_type": "code",
   "execution_count": 78,
   "id": "37c281a5",
   "metadata": {},
   "outputs": [
    {
     "data": {
      "text/plain": [
       "False"
      ]
     },
     "execution_count": 78,
     "metadata": {},
     "output_type": "execute_result"
    }
   ],
   "source": [
    "x==11"
   ]
  },
  {
   "cell_type": "code",
   "execution_count": 79,
   "id": "017a7ac8",
   "metadata": {},
   "outputs": [
    {
     "data": {
      "text/plain": [
       "True"
      ]
     },
     "execution_count": 79,
     "metadata": {},
     "output_type": "execute_result"
    }
   ],
   "source": [
    "x==12.0"
   ]
  },
  {
   "cell_type": "code",
   "execution_count": 80,
   "id": "7706765c",
   "metadata": {},
   "outputs": [
    {
     "data": {
      "text/plain": [
       "6"
      ]
     },
     "execution_count": 80,
     "metadata": {},
     "output_type": "execute_result"
    }
   ],
   "source": [
    "5+True"
   ]
  },
  {
   "cell_type": "code",
   "execution_count": 81,
   "id": "8210b996",
   "metadata": {},
   "outputs": [
    {
     "data": {
      "text/plain": [
       "6"
      ]
     },
     "execution_count": 81,
     "metadata": {},
     "output_type": "execute_result"
    }
   ],
   "source": [
    "5+True-False"
   ]
  },
  {
   "cell_type": "code",
   "execution_count": 82,
   "id": "203cb15d",
   "metadata": {},
   "outputs": [
    {
     "data": {
      "text/plain": [
       "True"
      ]
     },
     "execution_count": 82,
     "metadata": {},
     "output_type": "execute_result"
    }
   ],
   "source": [
    "x==12"
   ]
  },
  {
   "cell_type": "code",
   "execution_count": 106,
   "id": "5d3534e3",
   "metadata": {},
   "outputs": [],
   "source": [
    "x=14"
   ]
  },
  {
   "cell_type": "code",
   "execution_count": 107,
   "id": "885b71be",
   "metadata": {},
   "outputs": [],
   "source": [
    "y=14"
   ]
  },
  {
   "cell_type": "code",
   "execution_count": 108,
   "id": "97927d11",
   "metadata": {},
   "outputs": [
    {
     "data": {
      "text/plain": [
       "140412144773840"
      ]
     },
     "execution_count": 108,
     "metadata": {},
     "output_type": "execute_result"
    }
   ],
   "source": [
    "id(x)"
   ]
  },
  {
   "cell_type": "code",
   "execution_count": 109,
   "id": "5edfc69f",
   "metadata": {},
   "outputs": [
    {
     "data": {
      "text/plain": [
       "140412144773840"
      ]
     },
     "execution_count": 109,
     "metadata": {},
     "output_type": "execute_result"
    }
   ],
   "source": [
    "id(y)"
   ]
  },
  {
   "cell_type": "code",
   "execution_count": 104,
   "id": "c964f7b9",
   "metadata": {},
   "outputs": [
    {
     "data": {
      "text/plain": [
       "True"
      ]
     },
     "execution_count": 104,
     "metadata": {},
     "output_type": "execute_result"
    }
   ],
   "source": [
    "x==y"
   ]
  },
  {
   "cell_type": "code",
   "execution_count": 105,
   "id": "d22cdc11",
   "metadata": {},
   "outputs": [
    {
     "data": {
      "text/plain": [
       "False"
      ]
     },
     "execution_count": 105,
     "metadata": {},
     "output_type": "execute_result"
    }
   ],
   "source": [
    "x is y"
   ]
  },
  {
   "cell_type": "markdown",
   "id": "3a79dee4",
   "metadata": {},
   "source": [
    "# list"
   ]
  },
  {
   "cell_type": "code",
   "execution_count": 110,
   "id": "5d029c97",
   "metadata": {},
   "outputs": [],
   "source": [
    "# collection of objects "
   ]
  },
  {
   "cell_type": "code",
   "execution_count": 117,
   "id": "a473c8e0",
   "metadata": {},
   "outputs": [],
   "source": [
    "l=[1, 2.4,\"beuf\",True,[1,5,6]]"
   ]
  },
  {
   "cell_type": "code",
   "execution_count": 126,
   "id": "e5a2d3cc",
   "metadata": {},
   "outputs": [],
   "source": [
    "l=[1,2,3]"
   ]
  },
  {
   "cell_type": "code",
   "execution_count": 119,
   "id": "f07a93d3",
   "metadata": {},
   "outputs": [
    {
     "data": {
      "text/plain": [
       "[1, 2, 3, 1, 2, 3]"
      ]
     },
     "execution_count": 119,
     "metadata": {},
     "output_type": "execute_result"
    }
   ],
   "source": [
    "l+l"
   ]
  },
  {
   "cell_type": "code",
   "execution_count": 120,
   "id": "1b42998a",
   "metadata": {},
   "outputs": [
    {
     "data": {
      "text/plain": [
       "[1, 2, 3, 1, 2, 3]"
      ]
     },
     "execution_count": 120,
     "metadata": {},
     "output_type": "execute_result"
    }
   ],
   "source": [
    "l*2"
   ]
  },
  {
   "cell_type": "code",
   "execution_count": 121,
   "id": "27092d2d",
   "metadata": {},
   "outputs": [
    {
     "data": {
      "text/plain": [
       "1"
      ]
     },
     "execution_count": 121,
     "metadata": {},
     "output_type": "execute_result"
    }
   ],
   "source": [
    "l.index(2)"
   ]
  },
  {
   "cell_type": "code",
   "execution_count": 116,
   "id": "93e9dc60",
   "metadata": {},
   "outputs": [
    {
     "data": {
      "text/plain": [
       "1"
      ]
     },
     "execution_count": 116,
     "metadata": {},
     "output_type": "execute_result"
    }
   ],
   "source": [
    "l.count(2)"
   ]
  },
  {
   "cell_type": "code",
   "execution_count": 127,
   "id": "41c97b64",
   "metadata": {},
   "outputs": [
    {
     "data": {
      "text/plain": [
       "140411236626368"
      ]
     },
     "execution_count": 127,
     "metadata": {},
     "output_type": "execute_result"
    }
   ],
   "source": [
    "id(l)"
   ]
  },
  {
   "cell_type": "code",
   "execution_count": 128,
   "id": "2c890c45",
   "metadata": {},
   "outputs": [],
   "source": [
    "l[0]=100"
   ]
  },
  {
   "cell_type": "code",
   "execution_count": 125,
   "id": "3df50878",
   "metadata": {},
   "outputs": [
    {
     "data": {
      "text/plain": [
       "[100, 2, 3]"
      ]
     },
     "execution_count": 125,
     "metadata": {},
     "output_type": "execute_result"
    }
   ],
   "source": [
    "l"
   ]
  },
  {
   "cell_type": "code",
   "execution_count": 129,
   "id": "af72570b",
   "metadata": {},
   "outputs": [
    {
     "data": {
      "text/plain": [
       "140411236626368"
      ]
     },
     "execution_count": 129,
     "metadata": {},
     "output_type": "execute_result"
    }
   ],
   "source": [
    "id(l)"
   ]
  },
  {
   "cell_type": "code",
   "execution_count": 130,
   "id": "cb5a36f0",
   "metadata": {},
   "outputs": [
    {
     "data": {
      "text/plain": [
       "[100, 2, 3]"
      ]
     },
     "execution_count": 130,
     "metadata": {},
     "output_type": "execute_result"
    }
   ],
   "source": [
    "l"
   ]
  },
  {
   "cell_type": "code",
   "execution_count": 131,
   "id": "851d7f77",
   "metadata": {},
   "outputs": [],
   "source": [
    "l.append(15)"
   ]
  },
  {
   "cell_type": "code",
   "execution_count": 132,
   "id": "3b7a60df",
   "metadata": {},
   "outputs": [
    {
     "data": {
      "text/plain": [
       "[100, 2, 3, 15]"
      ]
     },
     "execution_count": 132,
     "metadata": {},
     "output_type": "execute_result"
    }
   ],
   "source": [
    "l\n",
    "\n",
    "\n"
   ]
  },
  {
   "cell_type": "code",
   "execution_count": 133,
   "id": "54a0ebb9",
   "metadata": {},
   "outputs": [],
   "source": [
    "l.insert(1,27)"
   ]
  },
  {
   "cell_type": "code",
   "execution_count": 134,
   "id": "57442718",
   "metadata": {},
   "outputs": [
    {
     "data": {
      "text/plain": [
       "[100, 27, 2, 3, 15]"
      ]
     },
     "execution_count": 134,
     "metadata": {},
     "output_type": "execute_result"
    }
   ],
   "source": [
    "l"
   ]
  },
  {
   "cell_type": "code",
   "execution_count": 135,
   "id": "3c9ad92e",
   "metadata": {},
   "outputs": [],
   "source": [
    "l.remove(100)"
   ]
  },
  {
   "cell_type": "code",
   "execution_count": 136,
   "id": "ad4213b3",
   "metadata": {},
   "outputs": [
    {
     "data": {
      "text/plain": [
       "[27, 2, 3, 15]"
      ]
     },
     "execution_count": 136,
     "metadata": {},
     "output_type": "execute_result"
    }
   ],
   "source": [
    "l"
   ]
  },
  {
   "cell_type": "code",
   "execution_count": 137,
   "id": "6d099e65",
   "metadata": {},
   "outputs": [
    {
     "data": {
      "text/plain": [
       "3"
      ]
     },
     "execution_count": 137,
     "metadata": {},
     "output_type": "execute_result"
    }
   ],
   "source": [
    "l.pop(2)"
   ]
  },
  {
   "cell_type": "code",
   "execution_count": 139,
   "id": "81a4a5da",
   "metadata": {},
   "outputs": [
    {
     "data": {
      "text/plain": [
       "[27, 2, 15]"
      ]
     },
     "execution_count": 139,
     "metadata": {},
     "output_type": "execute_result"
    }
   ],
   "source": [
    "l"
   ]
  },
  {
   "cell_type": "raw",
   "id": "bfc86c67",
   "metadata": {},
   "source": [
    "# Tuple\n",
    "# set\n",
    "# dict\n",
    "\n"
   ]
  },
  {
   "cell_type": "code",
   "execution_count": 1,
   "id": "ac2f3056",
   "metadata": {},
   "outputs": [],
   "source": [
    "l=[\"python\"]"
   ]
  },
  {
   "cell_type": "markdown",
   "id": "12ec8f38",
   "metadata": {},
   "source": [
    "# list <--> str"
   ]
  },
  {
   "cell_type": "code",
   "execution_count": 12,
   "id": "c8a24122",
   "metadata": {},
   "outputs": [
    {
     "data": {
      "text/plain": [
       "'p-y-t-h-o-n'"
      ]
     },
     "execution_count": 12,
     "metadata": {},
     "output_type": "execute_result"
    }
   ],
   "source": [
    "l=\"python\"\n",
    "l=list(l)\n",
    "\"-\".join(l)"
   ]
  },
  {
   "cell_type": "code",
   "execution_count": 10,
   "id": "0ca5c62a",
   "metadata": {},
   "outputs": [
    {
     "data": {
      "text/plain": [
       "'python'"
      ]
     },
     "execution_count": 10,
     "metadata": {},
     "output_type": "execute_result"
    }
   ],
   "source": [
    "l"
   ]
  },
  {
   "cell_type": "code",
   "execution_count": 16,
   "id": "b5f77892",
   "metadata": {},
   "outputs": [
    {
     "data": {
      "text/plain": [
       "'python'"
      ]
     },
     "execution_count": 16,
     "metadata": {},
     "output_type": "execute_result"
    }
   ],
   "source": [
    "l='kython'\n",
    "l=list(l)\n",
    "l[0]='p'\n",
    "''.join(l)"
   ]
  },
  {
   "cell_type": "markdown",
   "id": "56f89225",
   "metadata": {},
   "source": [
    "# tuple"
   ]
  },
  {
   "cell_type": "code",
   "execution_count": 17,
   "id": "6ddac943",
   "metadata": {},
   "outputs": [],
   "source": [
    "# collection of objects "
   ]
  },
  {
   "cell_type": "code",
   "execution_count": 32,
   "id": "ac2e6730",
   "metadata": {},
   "outputs": [],
   "source": [
    "a=(1,2.9,\"fdf\",True,[1,4,5],(0,9,8))"
   ]
  },
  {
   "cell_type": "code",
   "execution_count": 26,
   "id": "9b206bd1",
   "metadata": {},
   "outputs": [
    {
     "data": {
      "text/plain": [
       "(1,\n",
       " 1.9,\n",
       " 'fdf',\n",
       " True,\n",
       " [1, 4, 5],\n",
       " (0, 9, 8),\n",
       " 1,\n",
       " 1.9,\n",
       " 'fdf',\n",
       " True,\n",
       " [1, 4, 5],\n",
       " (0, 9, 8))"
      ]
     },
     "execution_count": 26,
     "metadata": {},
     "output_type": "execute_result"
    }
   ],
   "source": [
    "a+a"
   ]
  },
  {
   "cell_type": "code",
   "execution_count": 21,
   "id": "90e1f904",
   "metadata": {},
   "outputs": [
    {
     "data": {
      "text/plain": [
       "(1,\n",
       " 1.9,\n",
       " 'fdf',\n",
       " True,\n",
       " [1, 4, 5],\n",
       " (1, 9, 8),\n",
       " 1,\n",
       " 1.9,\n",
       " 'fdf',\n",
       " True,\n",
       " [1, 4, 5],\n",
       " (1, 9, 8))"
      ]
     },
     "execution_count": 21,
     "metadata": {},
     "output_type": "execute_result"
    }
   ],
   "source": [
    "a*2"
   ]
  },
  {
   "cell_type": "code",
   "execution_count": 23,
   "id": "48387757",
   "metadata": {},
   "outputs": [
    {
     "data": {
      "text/plain": [
       "1"
      ]
     },
     "execution_count": 23,
     "metadata": {},
     "output_type": "execute_result"
    }
   ],
   "source": [
    "a.index(1.9)"
   ]
  },
  {
   "cell_type": "code",
   "execution_count": 31,
   "id": "9a537db2",
   "metadata": {},
   "outputs": [
    {
     "data": {
      "text/plain": [
       "1"
      ]
     },
     "execution_count": 31,
     "metadata": {},
     "output_type": "execute_result"
    }
   ],
   "source": [
    "a.count(1)"
   ]
  },
  {
   "cell_type": "code",
   "execution_count": 33,
   "id": "fc7fbd9c",
   "metadata": {},
   "outputs": [],
   "source": [
    "a=[1,2,3]\n",
    "b=(1,2,3)"
   ]
  },
  {
   "cell_type": "code",
   "execution_count": 34,
   "id": "7fd7d5f9",
   "metadata": {},
   "outputs": [
    {
     "data": {
      "text/plain": [
       "104"
      ]
     },
     "execution_count": 34,
     "metadata": {},
     "output_type": "execute_result"
    }
   ],
   "source": [
    "a.__sizeof__()"
   ]
  },
  {
   "cell_type": "code",
   "execution_count": 35,
   "id": "1a58041e",
   "metadata": {},
   "outputs": [
    {
     "data": {
      "text/plain": [
       "48"
      ]
     },
     "execution_count": 35,
     "metadata": {},
     "output_type": "execute_result"
    }
   ],
   "source": [
    "b.__sizeof__()"
   ]
  },
  {
   "cell_type": "markdown",
   "id": "3bda0a12",
   "metadata": {},
   "source": [
    "# list <--> tuple"
   ]
  },
  {
   "cell_type": "code",
   "execution_count": 37,
   "id": "d9d17f27",
   "metadata": {},
   "outputs": [
    {
     "data": {
      "text/plain": [
       "[1, 2, 3]"
      ]
     },
     "execution_count": 37,
     "metadata": {},
     "output_type": "execute_result"
    }
   ],
   "source": [
    "a=[1,2,3]\n",
    "a=tuple(a)\n",
    "a=list(a)\n",
    "a"
   ]
  },
  {
   "cell_type": "markdown",
   "id": "7b8df14c",
   "metadata": {},
   "source": [
    "# set"
   ]
  },
  {
   "cell_type": "code",
   "execution_count": 38,
   "id": "413b0e32",
   "metadata": {},
   "outputs": [
    {
     "data": {
      "text/plain": [
       "{1, 2, 3, 7}"
      ]
     },
     "execution_count": 38,
     "metadata": {},
     "output_type": "execute_result"
    }
   ],
   "source": [
    "a={1,2,1,3,1,7}\n",
    "a"
   ]
  },
  {
   "cell_type": "code",
   "execution_count": 39,
   "id": "46c0e4da",
   "metadata": {},
   "outputs": [],
   "source": [
    "b={2,3,9,10}"
   ]
  },
  {
   "cell_type": "code",
   "execution_count": 40,
   "id": "332ef100",
   "metadata": {},
   "outputs": [
    {
     "data": {
      "text/plain": [
       "{1, 2, 3, 7, 9, 10}"
      ]
     },
     "execution_count": 40,
     "metadata": {},
     "output_type": "execute_result"
    }
   ],
   "source": [
    "a|b"
   ]
  },
  {
   "cell_type": "code",
   "execution_count": 41,
   "id": "857bbf9a",
   "metadata": {},
   "outputs": [
    {
     "data": {
      "text/plain": [
       "{1, 2, 3, 7, 9, 10}"
      ]
     },
     "execution_count": 41,
     "metadata": {},
     "output_type": "execute_result"
    }
   ],
   "source": [
    "a.union(b)"
   ]
  },
  {
   "cell_type": "code",
   "execution_count": 42,
   "id": "6562edef",
   "metadata": {},
   "outputs": [
    {
     "data": {
      "text/plain": [
       "{2, 3}"
      ]
     },
     "execution_count": 42,
     "metadata": {},
     "output_type": "execute_result"
    }
   ],
   "source": [
    "a&b"
   ]
  },
  {
   "cell_type": "code",
   "execution_count": 43,
   "id": "f3b5021a",
   "metadata": {},
   "outputs": [
    {
     "data": {
      "text/plain": [
       "{2, 3}"
      ]
     },
     "execution_count": 43,
     "metadata": {},
     "output_type": "execute_result"
    }
   ],
   "source": [
    "a.intersection(b)"
   ]
  },
  {
   "cell_type": "code",
   "execution_count": 44,
   "id": "c5628d0f",
   "metadata": {},
   "outputs": [
    {
     "data": {
      "text/plain": [
       "{1, 2, 3, 7}"
      ]
     },
     "execution_count": 44,
     "metadata": {},
     "output_type": "execute_result"
    }
   ],
   "source": [
    "a"
   ]
  },
  {
   "cell_type": "code",
   "execution_count": 53,
   "id": "40557260",
   "metadata": {},
   "outputs": [],
   "source": [
    "a={1,9,0}"
   ]
  },
  {
   "cell_type": "code",
   "execution_count": 54,
   "id": "9c72ff80",
   "metadata": {},
   "outputs": [
    {
     "data": {
      "text/plain": [
       "0"
      ]
     },
     "execution_count": 54,
     "metadata": {},
     "output_type": "execute_result"
    }
   ],
   "source": [
    "a.pop()"
   ]
  },
  {
   "cell_type": "code",
   "execution_count": 55,
   "id": "bd61557e",
   "metadata": {},
   "outputs": [
    {
     "data": {
      "text/plain": [
       "{1, 9}"
      ]
     },
     "execution_count": 55,
     "metadata": {},
     "output_type": "execute_result"
    }
   ],
   "source": [
    "a"
   ]
  },
  {
   "cell_type": "code",
   "execution_count": 56,
   "id": "f8978c2d",
   "metadata": {},
   "outputs": [
    {
     "data": {
      "text/plain": [
       "1"
      ]
     },
     "execution_count": 56,
     "metadata": {},
     "output_type": "execute_result"
    }
   ],
   "source": [
    "a.pop()"
   ]
  },
  {
   "cell_type": "code",
   "execution_count": 51,
   "id": "50eb2b15",
   "metadata": {},
   "outputs": [],
   "source": [
    "a.add(12)"
   ]
  },
  {
   "cell_type": "code",
   "execution_count": 52,
   "id": "92360072",
   "metadata": {},
   "outputs": [
    {
     "data": {
      "text/plain": [
       "{1, 9, 12}"
      ]
     },
     "execution_count": 52,
     "metadata": {},
     "output_type": "execute_result"
    }
   ],
   "source": [
    "a"
   ]
  },
  {
   "cell_type": "code",
   "execution_count": 58,
   "id": "2076b616",
   "metadata": {},
   "outputs": [
    {
     "data": {
      "text/plain": [
       "[1, 2, 3, 4]"
      ]
     },
     "execution_count": 58,
     "metadata": {},
     "output_type": "execute_result"
    }
   ],
   "source": [
    "l=[1,2,3,4,1,2,3]\n",
    "l=set(l)\n",
    "l=list(l)\n",
    "l"
   ]
  },
  {
   "cell_type": "markdown",
   "id": "a1ae7ff3",
   "metadata": {},
   "source": [
    "# dict"
   ]
  },
  {
   "cell_type": "code",
   "execution_count": 59,
   "id": "a475af76",
   "metadata": {},
   "outputs": [],
   "source": [
    "a={\n",
    "    \"s1\":12,\n",
    "    \"s2\":20,\n",
    "    \"s3\":34\n",
    "    \n",
    "    \n",
    "}"
   ]
  },
  {
   "cell_type": "code",
   "execution_count": 60,
   "id": "7e521cc9",
   "metadata": {},
   "outputs": [
    {
     "data": {
      "text/plain": [
       "{'s1': 12, 's2': 20, 's3': 34}"
      ]
     },
     "execution_count": 60,
     "metadata": {},
     "output_type": "execute_result"
    }
   ],
   "source": [
    "a"
   ]
  },
  {
   "cell_type": "code",
   "execution_count": 61,
   "id": "c4bc40f8",
   "metadata": {},
   "outputs": [
    {
     "data": {
      "text/plain": [
       "34"
      ]
     },
     "execution_count": 61,
     "metadata": {},
     "output_type": "execute_result"
    }
   ],
   "source": [
    "a[\"s3\"]"
   ]
  },
  {
   "cell_type": "code",
   "execution_count": 62,
   "id": "7562d0c5",
   "metadata": {},
   "outputs": [
    {
     "data": {
      "text/plain": [
       "dict_keys(['s1', 's2', 's3'])"
      ]
     },
     "execution_count": 62,
     "metadata": {},
     "output_type": "execute_result"
    }
   ],
   "source": [
    "a.keys()"
   ]
  },
  {
   "cell_type": "code",
   "execution_count": 63,
   "id": "cd87985f",
   "metadata": {},
   "outputs": [
    {
     "data": {
      "text/plain": [
       "dict_values([12, 20, 34])"
      ]
     },
     "execution_count": 63,
     "metadata": {},
     "output_type": "execute_result"
    }
   ],
   "source": [
    "a.values()"
   ]
  },
  {
   "cell_type": "code",
   "execution_count": 64,
   "id": "3b08d1c1",
   "metadata": {},
   "outputs": [],
   "source": [
    "a={\n",
    "    \"s1\":12,\n",
    "    \"s2\":20,\n",
    "    \"s3\":34,\n",
    "    12:\"rey\",\n",
    "    1.4:True,\n",
    "    \"s5\":[1,2,3,4],\n",
    "    \"s6\":(1,3,4),\n",
    "    \"s7\":{1,2,6,7},\n",
    "    \"s8\":{\n",
    "        \n",
    "        \"b\":10\n",
    "    }\n",
    "    \n",
    "    \n",
    "    \n",
    "}"
   ]
  },
  {
   "cell_type": "code",
   "execution_count": 65,
   "id": "73b69f4d",
   "metadata": {},
   "outputs": [
    {
     "data": {
      "text/plain": [
       "dict_keys(['s1', 's2', 's3', 12, 1.4, 's5', 's6', 's7', 's8'])"
      ]
     },
     "execution_count": 65,
     "metadata": {},
     "output_type": "execute_result"
    }
   ],
   "source": [
    "a.keys()"
   ]
  },
  {
   "cell_type": "code",
   "execution_count": 67,
   "id": "f867d74f",
   "metadata": {},
   "outputs": [],
   "source": [
    "a['s1']=22"
   ]
  },
  {
   "cell_type": "code",
   "execution_count": 68,
   "id": "eeef86d5",
   "metadata": {},
   "outputs": [
    {
     "data": {
      "text/plain": [
       "{'s1': 22,\n",
       " 's2': 20,\n",
       " 's3': 34,\n",
       " 12: 'rey',\n",
       " 1.4: True,\n",
       " 's5': [1, 2, 3, 4],\n",
       " 's6': (1, 3, 4),\n",
       " 's7': {1, 2, 6, 7},\n",
       " 's8': {'b': 10}}"
      ]
     },
     "execution_count": 68,
     "metadata": {},
     "output_type": "execute_result"
    }
   ],
   "source": [
    "a"
   ]
  },
  {
   "cell_type": "code",
   "execution_count": 69,
   "id": "c97552fe",
   "metadata": {},
   "outputs": [
    {
     "data": {
      "text/plain": [
       "dict_values([22, 20, 34, 'rey', True, [1, 2, 3, 4], (1, 3, 4), {1, 2, 6, 7}, {'b': 10}])"
      ]
     },
     "execution_count": 69,
     "metadata": {},
     "output_type": "execute_result"
    }
   ],
   "source": [
    "a.values()"
   ]
  },
  {
   "cell_type": "code",
   "execution_count": 70,
   "id": "597ac3e7",
   "metadata": {},
   "outputs": [
    {
     "data": {
      "text/plain": [
       "dict_items([('s1', 22), ('s2', 20), ('s3', 34), (12, 'rey'), (1.4, True), ('s5', [1, 2, 3, 4]), ('s6', (1, 3, 4)), ('s7', {1, 2, 6, 7}), ('s8', {'b': 10})])"
      ]
     },
     "execution_count": 70,
     "metadata": {},
     "output_type": "execute_result"
    }
   ],
   "source": [
    "a.items()"
   ]
  },
  {
   "cell_type": "code",
   "execution_count": 71,
   "id": "81c94549",
   "metadata": {},
   "outputs": [
    {
     "data": {
      "text/plain": [
       "22"
      ]
     },
     "execution_count": 71,
     "metadata": {},
     "output_type": "execute_result"
    }
   ],
   "source": [
    "a.pop('s1')"
   ]
  },
  {
   "cell_type": "code",
   "execution_count": 72,
   "id": "306835dd",
   "metadata": {},
   "outputs": [
    {
     "data": {
      "text/plain": [
       "{'s2': 20,\n",
       " 's3': 34,\n",
       " 12: 'rey',\n",
       " 1.4: True,\n",
       " 's5': [1, 2, 3, 4],\n",
       " 's6': (1, 3, 4),\n",
       " 's7': {1, 2, 6, 7},\n",
       " 's8': {'b': 10}}"
      ]
     },
     "execution_count": 72,
     "metadata": {},
     "output_type": "execute_result"
    }
   ],
   "source": [
    "a"
   ]
  },
  {
   "cell_type": "raw",
   "id": "83e23dc5",
   "metadata": {},
   "source": [
    "#datatypes/containers  #indexing #mutable\n",
    "\n",
    "string                  yes        no\n",
    "list                    yes        yes \n",
    "tuple.                  yes        no\n",
    "set                     no.       yes\n",
    "dict                    no        yes "
   ]
  },
  {
   "cell_type": "code",
   "execution_count": 73,
   "id": "7e2513c3",
   "metadata": {},
   "outputs": [],
   "source": [
    "scores_master={\n",
    "    \"s1\":12,\n",
    "    \"s2\":20,\n",
    "    \"s3\":34\n",
    "    \n",
    "    \n",
    "}"
   ]
  },
  {
   "cell_type": "code",
   "execution_count": 74,
   "id": "3c7b7367",
   "metadata": {},
   "outputs": [],
   "source": [
    "scores_2022={\n",
    "    \n",
    "    \"s4\":23,\n",
    "    \"s5\":20,\n",
    "    \"s1\":29\n",
    "}"
   ]
  },
  {
   "cell_type": "code",
   "execution_count": 75,
   "id": "7351bd0e",
   "metadata": {},
   "outputs": [],
   "source": [
    "scores_master.update(scores_2022)"
   ]
  },
  {
   "cell_type": "code",
   "execution_count": 76,
   "id": "10feea4b",
   "metadata": {},
   "outputs": [
    {
     "data": {
      "text/plain": [
       "{'s1': 29, 's2': 20, 's3': 34, 's4': 23, 's5': 20}"
      ]
     },
     "execution_count": 76,
     "metadata": {},
     "output_type": "execute_result"
    }
   ],
   "source": [
    "scores_master"
   ]
  },
  {
   "cell_type": "markdown",
   "id": "83a47b02",
   "metadata": {},
   "source": [
    "# loops"
   ]
  },
  {
   "cell_type": "code",
   "execution_count": 79,
   "id": "2b0cc4f2",
   "metadata": {},
   "outputs": [],
   "source": [
    "l=[1,2,4,5,9]\n",
    "l[0]=l[0]+1\n",
    "l[1]=l[1]+1\n",
    "l[2]=l[2]+1\n",
    "l[3]=l[3]+1\n",
    "l[4]=l[4]+1"
   ]
  },
  {
   "cell_type": "code",
   "execution_count": 80,
   "id": "a9ca43a9",
   "metadata": {},
   "outputs": [
    {
     "data": {
      "text/plain": [
       "[2, 3, 5, 6, 10]"
      ]
     },
     "execution_count": 80,
     "metadata": {},
     "output_type": "execute_result"
    }
   ],
   "source": [
    "l"
   ]
  },
  {
   "cell_type": "code",
   "execution_count": 86,
   "id": "bd7d71be",
   "metadata": {},
   "outputs": [
    {
     "name": "stdout",
     "output_type": "stream",
     "text": [
      "[1, 4, 16, 25, 81]\n"
     ]
    }
   ],
   "source": [
    "l=[1,2,4,5,9]\n",
    "l2=[]\n",
    "\n",
    "for a in l :\n",
    "    l2.append(a**2)\n",
    "print(l2)"
   ]
  },
  {
   "cell_type": "code",
   "execution_count": 87,
   "id": "603af54a",
   "metadata": {},
   "outputs": [
    {
     "data": {
      "text/plain": [
       "[1, 4, 16, 25, 81]"
      ]
     },
     "execution_count": 87,
     "metadata": {},
     "output_type": "execute_result"
    }
   ],
   "source": [
    "l2"
   ]
  },
  {
   "cell_type": "code",
   "execution_count": 90,
   "id": "4bd17ede",
   "metadata": {},
   "outputs": [],
   "source": [
    "l=[1,2,4,5,9]\n",
    "\n",
    "\n",
    "total=1\n",
    "\n",
    "for i in l:\n",
    "    total=total*i"
   ]
  },
  {
   "cell_type": "code",
   "execution_count": 91,
   "id": "7e5a67e7",
   "metadata": {},
   "outputs": [
    {
     "data": {
      "text/plain": [
       "360"
      ]
     },
     "execution_count": 91,
     "metadata": {},
     "output_type": "execute_result"
    }
   ],
   "source": [
    "total"
   ]
  },
  {
   "cell_type": "code",
   "execution_count": 98,
   "id": "cd3c4c53",
   "metadata": {},
   "outputs": [],
   "source": [
    "names=[\"ashwini\",\"Bhavishya\",\"Deepak\"]\n",
    "names_updated=[]\n",
    "\n",
    "for i in names:\n",
    "    names_updated.append(i.lower())"
   ]
  },
  {
   "cell_type": "code",
   "execution_count": 97,
   "id": "01f9bdaf",
   "metadata": {},
   "outputs": [
    {
     "data": {
      "text/plain": [
       "['ashwini', 'bhavishya', 'deepak']"
      ]
     },
     "execution_count": 97,
     "metadata": {},
     "output_type": "execute_result"
    }
   ],
   "source": [
    "names_updated"
   ]
  },
  {
   "cell_type": "code",
   "execution_count": 100,
   "id": "a1513048",
   "metadata": {},
   "outputs": [
    {
     "data": {
      "text/plain": [
       "['ashwini', 'bhavishya', 'deepak']"
      ]
     },
     "execution_count": 100,
     "metadata": {},
     "output_type": "execute_result"
    }
   ],
   "source": [
    "sorted(names_updated)"
   ]
  },
  {
   "cell_type": "code",
   "execution_count": 102,
   "id": "70acc2dd",
   "metadata": {},
   "outputs": [
    {
     "data": {
      "text/plain": [
       "'name'"
      ]
     },
     "execution_count": 102,
     "metadata": {},
     "output_type": "execute_result"
    }
   ],
   "source": [
    "\"name surname\".split()[0]"
   ]
  },
  {
   "cell_type": "code",
   "execution_count": 119,
   "id": "84e769ca",
   "metadata": {},
   "outputs": [],
   "source": [
    "names=[\"ashwini reddy\",\"Bhavishya sen\",\"Deepak de\"]\n",
    "names_updated=[]\n",
    "surnames=[]\n",
    "for i in names:\n",
    "            names_updated.append(i.split()[0])\n",
    "surnames.append(i.split()[1])"
   ]
  },
  {
   "cell_type": "code",
   "execution_count": 120,
   "id": "888939f9",
   "metadata": {},
   "outputs": [
    {
     "data": {
      "text/plain": [
       "['ashwini', 'Bhavishya', 'Deepak']"
      ]
     },
     "execution_count": 120,
     "metadata": {},
     "output_type": "execute_result"
    }
   ],
   "source": [
    "names_updated"
   ]
  },
  {
   "cell_type": "code",
   "execution_count": 121,
   "id": "33f0e2df",
   "metadata": {},
   "outputs": [
    {
     "data": {
      "text/plain": [
       "['de']"
      ]
     },
     "execution_count": 121,
     "metadata": {},
     "output_type": "execute_result"
    }
   ],
   "source": [
    "surnames"
   ]
  },
  {
   "cell_type": "markdown",
   "id": "99ad5c1f",
   "metadata": {},
   "source": [
    "# if - else"
   ]
  },
  {
   "cell_type": "code",
   "execution_count": 125,
   "id": "0717dc77",
   "metadata": {},
   "outputs": [
    {
     "name": "stdout",
     "output_type": "stream",
     "text": [
      "no\n"
     ]
    }
   ],
   "source": [
    "x=12\n",
    "\n",
    "if x==13 :\n",
    "    print(\"yes\")\n",
    "    \n",
    "else:\n",
    "    \n",
    "    print(\"no\")"
   ]
  },
  {
   "cell_type": "code",
   "execution_count": 140,
   "id": "daaf6c58",
   "metadata": {},
   "outputs": [],
   "source": [
    "x=13\n",
    "\n",
    "if x==13 :\n",
    "    x=12\n",
    "    \n",
    "\n",
    "if x==11:\n",
    "    x=5+8\n",
    "    \n",
    "elif x==12:\n",
    "    x=x+9\n",
    "    \n",
    "else:\n",
    "    \n",
    "    x=x+2"
   ]
  },
  {
   "cell_type": "code",
   "execution_count": 141,
   "id": "9a1a27b5",
   "metadata": {},
   "outputs": [
    {
     "data": {
      "text/plain": [
       "21"
      ]
     },
     "execution_count": 141,
     "metadata": {},
     "output_type": "execute_result"
    }
   ],
   "source": [
    "x"
   ]
  },
  {
   "cell_type": "markdown",
   "id": "36e8e226",
   "metadata": {},
   "source": [
    "# loops + if else conditions"
   ]
  },
  {
   "cell_type": "code",
   "execution_count": 168,
   "id": "a9850ee2",
   "metadata": {},
   "outputs": [],
   "source": [
    "l=[10,23,14,18,19,23,213.12,89.0,\"fbhuvh\",[7,8]]\n",
    "\n",
    "even=[]\n",
    "odd=[]\n",
    "fractions=[]\n",
    "\n",
    "for i in l:\n",
    "    if type(i) == int :\n",
    "        if i%2==0 :\n",
    "            even.append(i)\n",
    "        elif i%2==1 :\n",
    "            odd.append(i)\n",
    "    elif type(i) ==float  :\n",
    "        \n",
    "        fractions.append(i)"
   ]
  },
  {
   "cell_type": "code",
   "execution_count": 165,
   "id": "d608e83c",
   "metadata": {},
   "outputs": [
    {
     "data": {
      "text/plain": [
       "[10, 14, 18]"
      ]
     },
     "execution_count": 165,
     "metadata": {},
     "output_type": "execute_result"
    }
   ],
   "source": [
    "even"
   ]
  },
  {
   "cell_type": "code",
   "execution_count": 166,
   "id": "3668f38c",
   "metadata": {},
   "outputs": [
    {
     "data": {
      "text/plain": [
       "[23, 19, 23]"
      ]
     },
     "execution_count": 166,
     "metadata": {},
     "output_type": "execute_result"
    }
   ],
   "source": [
    "odd"
   ]
  },
  {
   "cell_type": "code",
   "execution_count": 167,
   "id": "2e94bfa1",
   "metadata": {},
   "outputs": [
    {
     "data": {
      "text/plain": [
       "[213.12, 89.0]"
      ]
     },
     "execution_count": 167,
     "metadata": {},
     "output_type": "execute_result"
    }
   ],
   "source": [
    "fractions"
   ]
  },
  {
   "cell_type": "code",
   "execution_count": 173,
   "id": "0c77ee1b",
   "metadata": {},
   "outputs": [],
   "source": [
    "names=[\"ashwini reddy\",\"Bhavishya sen\",\"Deepak de\"]\n",
    "\n",
    "extracted_names=[]\n",
    "\n",
    "for i in names:\n",
    "    \n",
    "    if i.lower()[0] in 'aeiou':\n",
    "        extracted_names.append(i)"
   ]
  },
  {
   "cell_type": "code",
   "execution_count": 174,
   "id": "ec2b4297",
   "metadata": {},
   "outputs": [
    {
     "data": {
      "text/plain": [
       "['ashwini reddy']"
      ]
     },
     "execution_count": 174,
     "metadata": {},
     "output_type": "execute_result"
    }
   ],
   "source": [
    "extracted_names"
   ]
  },
  {
   "cell_type": "code",
   "execution_count": 179,
   "id": "360cd535",
   "metadata": {},
   "outputs": [],
   "source": [
    "number=100\n",
    "factors=[]\n",
    "for i in range(1,number+1):\n",
    "    if number%i==0:\n",
    "        factors.append(i)"
   ]
  },
  {
   "cell_type": "code",
   "execution_count": 180,
   "id": "d85df832",
   "metadata": {},
   "outputs": [
    {
     "data": {
      "text/plain": [
       "[1, 2, 4, 5, 10, 20, 25, 50, 100]"
      ]
     },
     "execution_count": 180,
     "metadata": {},
     "output_type": "execute_result"
    }
   ],
   "source": [
    "factors"
   ]
  },
  {
   "cell_type": "markdown",
   "id": "c4280a49",
   "metadata": {},
   "source": [
    "# functions"
   ]
  },
  {
   "cell_type": "code",
   "execution_count": 184,
   "id": "ddd9b00d",
   "metadata": {},
   "outputs": [
    {
     "data": {
      "text/plain": [
       "[1]"
      ]
     },
     "execution_count": 184,
     "metadata": {},
     "output_type": "execute_result"
    }
   ],
   "source": [
    "number=1\n",
    "factors=[]\n",
    "for i in range(1,number+1):\n",
    "    if number%i==0:\n",
    "        factors.append(i)\n",
    "factors        "
   ]
  },
  {
   "cell_type": "code",
   "execution_count": 185,
   "id": "eee2c5c9",
   "metadata": {},
   "outputs": [
    {
     "data": {
      "text/plain": [
       "[1, 23]"
      ]
     },
     "execution_count": 185,
     "metadata": {},
     "output_type": "execute_result"
    }
   ],
   "source": [
    "number=23\n",
    "factors=[]\n",
    "for i in range(1,number+1):\n",
    "    if number%i==0:\n",
    "        factors.append(i)\n",
    "factors        "
   ]
  },
  {
   "cell_type": "code",
   "execution_count": 186,
   "id": "e024b4e7",
   "metadata": {},
   "outputs": [
    {
     "data": {
      "text/plain": [
       "[1, 5, 7, 35]"
      ]
     },
     "execution_count": 186,
     "metadata": {},
     "output_type": "execute_result"
    }
   ],
   "source": [
    "number=35\n",
    "factors=[]\n",
    "for i in range(1,number+1):\n",
    "    if number%i==0:\n",
    "        factors.append(i)\n",
    "factors        "
   ]
  },
  {
   "cell_type": "code",
   "execution_count": 187,
   "id": "0cafc9ff",
   "metadata": {},
   "outputs": [],
   "source": [
    "def get_factors(number):\n",
    "    factors=[]\n",
    "    for i in range(1,number+1):\n",
    "        if number%i==0:\n",
    "            factors.append(i)\n",
    "    print(factors)        "
   ]
  },
  {
   "cell_type": "code",
   "execution_count": 188,
   "id": "d7b3e0b5",
   "metadata": {},
   "outputs": [
    {
     "name": "stdout",
     "output_type": "stream",
     "text": [
      "[1, 2, 3, 4, 6, 8, 12, 24]\n"
     ]
    }
   ],
   "source": [
    "get_factors(24)"
   ]
  },
  {
   "cell_type": "code",
   "execution_count": 189,
   "id": "6be1b964",
   "metadata": {},
   "outputs": [
    {
     "name": "stdout",
     "output_type": "stream",
     "text": [
      "[1, 5, 25]\n"
     ]
    }
   ],
   "source": [
    "get_factors(25)"
   ]
  },
  {
   "cell_type": "code",
   "execution_count": 190,
   "id": "9c34f6aa",
   "metadata": {},
   "outputs": [],
   "source": [
    "def even_odd(number):\n",
    "    if number %2==0:\n",
    "        print(\"even\")\n",
    "    else:\n",
    "        print(\"odd\")"
   ]
  },
  {
   "cell_type": "code",
   "execution_count": 191,
   "id": "a41e9e6e",
   "metadata": {},
   "outputs": [
    {
     "name": "stdout",
     "output_type": "stream",
     "text": [
      "odd\n"
     ]
    }
   ],
   "source": [
    "even_odd(23)"
   ]
  },
  {
   "cell_type": "code",
   "execution_count": 192,
   "id": "5c6f2812",
   "metadata": {},
   "outputs": [
    {
     "name": "stdout",
     "output_type": "stream",
     "text": [
      "even\n"
     ]
    }
   ],
   "source": [
    "even_odd(24)"
   ]
  },
  {
   "cell_type": "markdown",
   "id": "51d2cd8b",
   "metadata": {},
   "source": [
    "# list comprehension  (for )"
   ]
  },
  {
   "cell_type": "code",
   "execution_count": 194,
   "id": "3c035164",
   "metadata": {},
   "outputs": [
    {
     "data": {
      "text/plain": [
       "[2, 5, 10, 9, 10]"
      ]
     },
     "execution_count": 194,
     "metadata": {},
     "output_type": "execute_result"
    }
   ],
   "source": [
    "l=[1,4,9,8,9]\n",
    "\n",
    "l2=[]\n",
    "for i in l:\n",
    "    l2.append(i+1)\n",
    "    \n",
    "l2    "
   ]
  },
  {
   "cell_type": "code",
   "execution_count": 195,
   "id": "54375a35",
   "metadata": {},
   "outputs": [],
   "source": [
    "l=[1,4,9,8,9]\n",
    "\n",
    "l2=[ i+1 for i in l]"
   ]
  },
  {
   "cell_type": "code",
   "execution_count": 196,
   "id": "b9437c99",
   "metadata": {},
   "outputs": [
    {
     "data": {
      "text/plain": [
       "[2, 5, 10, 9, 10]"
      ]
     },
     "execution_count": 196,
     "metadata": {},
     "output_type": "execute_result"
    }
   ],
   "source": [
    "l2"
   ]
  },
  {
   "cell_type": "code",
   "execution_count": 197,
   "id": "6d9e0698",
   "metadata": {},
   "outputs": [],
   "source": [
    "l=[1,4,9,8,9]\n",
    "\n",
    "l2=[i for i in l if i%2==0]"
   ]
  },
  {
   "cell_type": "markdown",
   "id": "35af1a55",
   "metadata": {},
   "source": [
    "# ex1 "
   ]
  },
  {
   "cell_type": "code",
   "execution_count": null,
   "id": "db5fc735",
   "metadata": {},
   "outputs": [],
   "source": [
    "prime ?? those numbers who are having only two factors \n",
    "\n",
    " 1 and the number itself "
   ]
  },
  {
   "cell_type": "code",
   "execution_count": 198,
   "id": "f09eb716",
   "metadata": {},
   "outputs": [],
   "source": [
    "def prime(number):\n",
    "    factors=[]\n",
    "    for i in range(1,number+1):\n",
    "        if number%i==0:\n",
    "            factors.append(i)\n",
    "    \n",
    "    print(len(factors)==2)\n",
    "    "
   ]
  },
  {
   "cell_type": "code",
   "execution_count": 199,
   "id": "1ea89873",
   "metadata": {},
   "outputs": [
    {
     "name": "stdout",
     "output_type": "stream",
     "text": [
      "True\n"
     ]
    }
   ],
   "source": [
    "prime(23)"
   ]
  },
  {
   "cell_type": "code",
   "execution_count": 201,
   "id": "1a06e170",
   "metadata": {},
   "outputs": [
    {
     "name": "stdout",
     "output_type": "stream",
     "text": [
      "False\n"
     ]
    }
   ],
   "source": [
    "prime(24)"
   ]
  },
  {
   "cell_type": "markdown",
   "id": "489b9459",
   "metadata": {},
   "source": [
    "# ex2"
   ]
  },
  {
   "cell_type": "code",
   "execution_count": 202,
   "id": "2adffda4",
   "metadata": {},
   "outputs": [],
   "source": [
    "def get_factors(number):\n",
    "    factors=[]\n",
    "    for i in range(1,number+1):\n",
    "        if number%i==0:\n",
    "            factors.append(i)\n",
    "    print(factors)    "
   ]
  },
  {
   "cell_type": "code",
   "execution_count": 204,
   "id": "3806c997",
   "metadata": {},
   "outputs": [],
   "source": [
    "def get_common_factors(number1,number2):\n",
    "    factors1=[]\n",
    "    for i in range(1,number1+1):\n",
    "        if number1%i==0:\n",
    "            factors1.append(i)\n",
    "            \n",
    "    factors2=[]\n",
    "    for i in range(1,number2+1):\n",
    "        if number2%i==0:\n",
    "            factors2.append(i)\n",
    "            \n",
    "            \n",
    "    common_factors=set(factors1)&set(factors2)      \n",
    "    print(common_factors)"
   ]
  },
  {
   "cell_type": "code",
   "execution_count": 205,
   "id": "8da74753",
   "metadata": {},
   "outputs": [
    {
     "name": "stdout",
     "output_type": "stream",
     "text": [
      "{1, 2, 3, 4, 6, 12}\n"
     ]
    }
   ],
   "source": [
    "get_common_factors(12,24)"
   ]
  },
  {
   "cell_type": "code",
   "execution_count": 213,
   "id": "39ec3c2a",
   "metadata": {},
   "outputs": [],
   "source": [
    "def get_common_factors(number1,number2):\n",
    "    factors=[]\n",
    "    for i in range(1,min(number1,number2)+1):\n",
    "        if number1%i==0 and number2%i==0:\n",
    "            factors.append(i)\n",
    "            \n",
    "         \n",
    "    print(factors)"
   ]
  },
  {
   "cell_type": "code",
   "execution_count": 215,
   "id": "e6513ab2",
   "metadata": {},
   "outputs": [
    {
     "name": "stdout",
     "output_type": "stream",
     "text": [
      "[1, 2, 3, 4, 6, 12]\n"
     ]
    }
   ],
   "source": [
    "get_common_factors(12,24)"
   ]
  },
  {
   "cell_type": "markdown",
   "id": "9bce4962",
   "metadata": {},
   "source": [
    "# print vs return "
   ]
  },
  {
   "cell_type": "code",
   "execution_count": 230,
   "id": "eba1868c",
   "metadata": {},
   "outputs": [],
   "source": [
    "def fun1(x):\n",
    "    \n",
    "    return (x+20) \n",
    "\n",
    "    return (x+30) "
   ]
  },
  {
   "cell_type": "code",
   "execution_count": 231,
   "id": "e1b7fb54",
   "metadata": {},
   "outputs": [],
   "source": [
    "def fun2(x):\n",
    "    \n",
    "    print(x+20)\n",
    "    print(x+30)"
   ]
  },
  {
   "cell_type": "code",
   "execution_count": 232,
   "id": "237aa0d8",
   "metadata": {},
   "outputs": [],
   "source": [
    "a=fun1(10)"
   ]
  },
  {
   "cell_type": "code",
   "execution_count": 233,
   "id": "abf8c9f8",
   "metadata": {},
   "outputs": [
    {
     "name": "stdout",
     "output_type": "stream",
     "text": [
      "30\n",
      "40\n"
     ]
    }
   ],
   "source": [
    "b=fun2(10)"
   ]
  },
  {
   "cell_type": "code",
   "execution_count": 234,
   "id": "8dd7229f",
   "metadata": {},
   "outputs": [
    {
     "name": "stdout",
     "output_type": "stream",
     "text": [
      "30\n"
     ]
    }
   ],
   "source": [
    "print(a)"
   ]
  },
  {
   "cell_type": "code",
   "execution_count": 235,
   "id": "c38b024c",
   "metadata": {},
   "outputs": [
    {
     "name": "stdout",
     "output_type": "stream",
     "text": [
      "None\n"
     ]
    }
   ],
   "source": [
    "print(b)"
   ]
  },
  {
   "cell_type": "code",
   "execution_count": null,
   "id": "4debdafd",
   "metadata": {},
   "outputs": [],
   "source": []
  }
 ],
 "metadata": {
  "kernelspec": {
   "display_name": "Python 3 (ipykernel)",
   "language": "python",
   "name": "python3"
  },
  "language_info": {
   "codemirror_mode": {
    "name": "ipython",
    "version": 3
   },
   "file_extension": ".py",
   "mimetype": "text/x-python",
   "name": "python",
   "nbconvert_exporter": "python",
   "pygments_lexer": "ipython3",
   "version": "3.9.12"
  }
 },
 "nbformat": 4,
 "nbformat_minor": 5
}
