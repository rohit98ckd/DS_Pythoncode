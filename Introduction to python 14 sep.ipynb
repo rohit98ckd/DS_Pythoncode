{
 "cells": [
  {
   "cell_type": "raw",
   "id": "320809ba",
   "metadata": {},
   "source": [
    "# basic alg operator\n",
    "# variables in python\n",
    "# datatypes and containers \n",
    "# for loops\n",
    "# if else elif condition\n",
    "# functions\n",
    "# list comprehension\n",
    "# lambda functions\n",
    "# exception handling \n",
    "# recursion "
   ]
  },
  {
   "cell_type": "markdown",
   "id": "ba554319",
   "metadata": {},
   "source": [
    "#  basic alg operator"
   ]
  },
  {
   "cell_type": "code",
   "execution_count": null,
   "id": "3480e38f",
   "metadata": {},
   "outputs": [],
   "source": [
    "+,-,*,/"
   ]
  },
  {
   "cell_type": "code",
   "execution_count": 5,
   "id": "ae8a81e4",
   "metadata": {},
   "outputs": [
    {
     "data": {
      "text/plain": [
       "1"
      ]
     },
     "execution_count": 5,
     "metadata": {},
     "output_type": "execute_result"
    }
   ],
   "source": [
    "25%8"
   ]
  },
  {
   "cell_type": "code",
   "execution_count": 6,
   "id": "298b9831",
   "metadata": {},
   "outputs": [
    {
     "data": {
      "text/plain": [
       "3"
      ]
     },
     "execution_count": 6,
     "metadata": {},
     "output_type": "execute_result"
    }
   ],
   "source": [
    "25//8"
   ]
  },
  {
   "cell_type": "code",
   "execution_count": 7,
   "id": "07d42ad4",
   "metadata": {},
   "outputs": [
    {
     "data": {
      "text/plain": [
       "25"
      ]
     },
     "execution_count": 7,
     "metadata": {},
     "output_type": "execute_result"
    }
   ],
   "source": [
    "5**2"
   ]
  },
  {
   "cell_type": "code",
   "execution_count": 8,
   "id": "eba5d695",
   "metadata": {},
   "outputs": [
    {
     "data": {
      "text/plain": [
       "25"
      ]
     },
     "execution_count": 8,
     "metadata": {},
     "output_type": "execute_result"
    }
   ],
   "source": [
    "pow(5,2)"
   ]
  },
  {
   "cell_type": "markdown",
   "id": "f69c3fb8",
   "metadata": {},
   "source": [
    "# variables in python"
   ]
  },
  {
   "cell_type": "code",
   "execution_count": 9,
   "id": "a723d982",
   "metadata": {},
   "outputs": [],
   "source": [
    "x=34"
   ]
  },
  {
   "cell_type": "code",
   "execution_count": 10,
   "id": "8a5ed831",
   "metadata": {},
   "outputs": [
    {
     "data": {
      "text/plain": [
       "140412144774480"
      ]
     },
     "execution_count": 10,
     "metadata": {},
     "output_type": "execute_result"
    }
   ],
   "source": [
    "id(x)"
   ]
  },
  {
   "cell_type": "code",
   "execution_count": 11,
   "id": "71a1a5a7",
   "metadata": {},
   "outputs": [
    {
     "data": {
      "text/plain": [
       "34"
      ]
     },
     "execution_count": 11,
     "metadata": {},
     "output_type": "execute_result"
    }
   ],
   "source": [
    "x"
   ]
  },
  {
   "cell_type": "code",
   "execution_count": 14,
   "id": "d26f3ce9",
   "metadata": {},
   "outputs": [],
   "source": [
    "y=34"
   ]
  },
  {
   "cell_type": "code",
   "execution_count": 15,
   "id": "304a7f2c",
   "metadata": {},
   "outputs": [
    {
     "data": {
      "text/plain": [
       "140412144774480"
      ]
     },
     "execution_count": 15,
     "metadata": {},
     "output_type": "execute_result"
    }
   ],
   "source": [
    "id(y)"
   ]
  },
  {
   "cell_type": "code",
   "execution_count": 16,
   "id": "b9174e10",
   "metadata": {},
   "outputs": [],
   "source": [
    "x=x+1"
   ]
  },
  {
   "cell_type": "code",
   "execution_count": 17,
   "id": "37432566",
   "metadata": {},
   "outputs": [
    {
     "data": {
      "text/plain": [
       "35"
      ]
     },
     "execution_count": 17,
     "metadata": {},
     "output_type": "execute_result"
    }
   ],
   "source": [
    "x"
   ]
  },
  {
   "cell_type": "code",
   "execution_count": 18,
   "id": "850511ce",
   "metadata": {},
   "outputs": [
    {
     "data": {
      "text/plain": [
       "34"
      ]
     },
     "execution_count": 18,
     "metadata": {},
     "output_type": "execute_result"
    }
   ],
   "source": [
    "y"
   ]
  },
  {
   "cell_type": "code",
   "execution_count": 19,
   "id": "7579baa0",
   "metadata": {},
   "outputs": [
    {
     "data": {
      "text/plain": [
       "140412144774512"
      ]
     },
     "execution_count": 19,
     "metadata": {},
     "output_type": "execute_result"
    }
   ],
   "source": [
    "id(x)"
   ]
  },
  {
   "cell_type": "code",
   "execution_count": 20,
   "id": "418db02e",
   "metadata": {},
   "outputs": [
    {
     "data": {
      "text/plain": [
       "140412144774480"
      ]
     },
     "execution_count": 20,
     "metadata": {},
     "output_type": "execute_result"
    }
   ],
   "source": [
    "id(y)"
   ]
  },
  {
   "cell_type": "code",
   "execution_count": 23,
   "id": "98d2ce6a",
   "metadata": {},
   "outputs": [],
   "source": [
    "v1=10\n",
    "_v_=10\n",
    "_=10\n",
    "_1_v2=12\n",
    "_1_1_1=23\n"
   ]
  },
  {
   "cell_type": "code",
   "execution_count": 24,
   "id": "0d1b8505",
   "metadata": {},
   "outputs": [],
   "source": [
    "x=10\n",
    "y=20"
   ]
  },
  {
   "cell_type": "code",
   "execution_count": 25,
   "id": "cab329ee",
   "metadata": {},
   "outputs": [],
   "source": [
    "tem=x\n",
    "x=y\n",
    "y=tem"
   ]
  },
  {
   "cell_type": "code",
   "execution_count": 28,
   "id": "0a75882c",
   "metadata": {},
   "outputs": [],
   "source": [
    "x=10\n",
    "y=20\n",
    "\n",
    "x,y=y,x\n"
   ]
  },
  {
   "cell_type": "code",
   "execution_count": 30,
   "id": "e4418ae4",
   "metadata": {},
   "outputs": [],
   "source": [
    "a,b,c,d=1,2,3,4"
   ]
  },
  {
   "cell_type": "markdown",
   "id": "5a0a6894",
   "metadata": {},
   "source": [
    "# datatypes and containers "
   ]
  },
  {
   "cell_type": "raw",
   "id": "b8f73ed5",
   "metadata": {},
   "source": [
    "int\n",
    "float\n",
    "str\n",
    "bool\n",
    "\n",
    "list\n",
    "tuple\n",
    "set \n",
    "dict"
   ]
  },
  {
   "cell_type": "markdown",
   "id": "fd7b2c73",
   "metadata": {},
   "source": [
    "# int and float"
   ]
  },
  {
   "cell_type": "code",
   "execution_count": 34,
   "id": "a8193eb9",
   "metadata": {},
   "outputs": [],
   "source": [
    "x=19\n",
    "y=12.0"
   ]
  },
  {
   "cell_type": "code",
   "execution_count": 35,
   "id": "5de25364",
   "metadata": {},
   "outputs": [
    {
     "data": {
      "text/plain": [
       "int"
      ]
     },
     "execution_count": 35,
     "metadata": {},
     "output_type": "execute_result"
    }
   ],
   "source": [
    "type(x)"
   ]
  },
  {
   "cell_type": "code",
   "execution_count": 36,
   "id": "9cba3816",
   "metadata": {},
   "outputs": [
    {
     "data": {
      "text/plain": [
       "float"
      ]
     },
     "execution_count": 36,
     "metadata": {},
     "output_type": "execute_result"
    }
   ],
   "source": [
    "type(y)"
   ]
  },
  {
   "cell_type": "code",
   "execution_count": 38,
   "id": "05dc4267",
   "metadata": {},
   "outputs": [
    {
     "data": {
      "text/plain": [
       "19"
      ]
     },
     "execution_count": 38,
     "metadata": {},
     "output_type": "execute_result"
    }
   ],
   "source": [
    "x=19\n",
    "x=float(x)\n",
    "x=int(x)\n",
    "x"
   ]
  },
  {
   "cell_type": "code",
   "execution_count": 39,
   "id": "d30f0bc6",
   "metadata": {},
   "outputs": [
    {
     "data": {
      "text/plain": [
       "19.0"
      ]
     },
     "execution_count": 39,
     "metadata": {},
     "output_type": "execute_result"
    }
   ],
   "source": [
    "x=19.8\n",
    "x=int(x)\n",
    "x=float(x)\n",
    "x"
   ]
  },
  {
   "cell_type": "markdown",
   "id": "b9ae18a2",
   "metadata": {},
   "source": [
    "# str"
   ]
  },
  {
   "cell_type": "code",
   "execution_count": 40,
   "id": "7ea8271d",
   "metadata": {},
   "outputs": [],
   "source": [
    "#collection of characters "
   ]
  },
  {
   "cell_type": "code",
   "execution_count": 56,
   "id": "e798b024",
   "metadata": {},
   "outputs": [],
   "source": [
    "x='python'\n",
    "y=\"python\"\n",
    "z='''python'''"
   ]
  },
  {
   "cell_type": "code",
   "execution_count": 42,
   "id": "5f93d74b",
   "metadata": {},
   "outputs": [
    {
     "data": {
      "text/plain": [
       "140411209105904"
      ]
     },
     "execution_count": 42,
     "metadata": {},
     "output_type": "execute_result"
    }
   ],
   "source": [
    "id(x)"
   ]
  },
  {
   "cell_type": "code",
   "execution_count": 43,
   "id": "c84ddc7c",
   "metadata": {},
   "outputs": [
    {
     "data": {
      "text/plain": [
       "140411209105904"
      ]
     },
     "execution_count": 43,
     "metadata": {},
     "output_type": "execute_result"
    }
   ],
   "source": [
    "id(y)"
   ]
  },
  {
   "cell_type": "code",
   "execution_count": 44,
   "id": "88c02913",
   "metadata": {},
   "outputs": [
    {
     "data": {
      "text/plain": [
       "140411209105904"
      ]
     },
     "execution_count": 44,
     "metadata": {},
     "output_type": "execute_result"
    }
   ],
   "source": [
    "id(z)"
   ]
  },
  {
   "cell_type": "code",
   "execution_count": 45,
   "id": "ae3cb832",
   "metadata": {},
   "outputs": [
    {
     "data": {
      "text/plain": [
       "'pythonpython'"
      ]
     },
     "execution_count": 45,
     "metadata": {},
     "output_type": "execute_result"
    }
   ],
   "source": [
    "x+x"
   ]
  },
  {
   "cell_type": "code",
   "execution_count": 46,
   "id": "6b516f0e",
   "metadata": {},
   "outputs": [
    {
     "data": {
      "text/plain": [
       "'pythonpythonpython'"
      ]
     },
     "execution_count": 46,
     "metadata": {},
     "output_type": "execute_result"
    }
   ],
   "source": [
    "x*3"
   ]
  },
  {
   "cell_type": "code",
   "execution_count": 47,
   "id": "d7c6117d",
   "metadata": {},
   "outputs": [
    {
     "data": {
      "text/plain": [
       "'python'"
      ]
     },
     "execution_count": 47,
     "metadata": {},
     "output_type": "execute_result"
    }
   ],
   "source": [
    "x"
   ]
  },
  {
   "cell_type": "code",
   "execution_count": 48,
   "id": "3953606c",
   "metadata": {},
   "outputs": [
    {
     "data": {
      "text/plain": [
       "'o'"
      ]
     },
     "execution_count": 48,
     "metadata": {},
     "output_type": "execute_result"
    }
   ],
   "source": [
    "x[4]"
   ]
  },
  {
   "cell_type": "code",
   "execution_count": 55,
   "id": "13874505",
   "metadata": {},
   "outputs": [
    {
     "data": {
      "text/plain": [
       "3"
      ]
     },
     "execution_count": 55,
     "metadata": {},
     "output_type": "execute_result"
    }
   ],
   "source": [
    "x.index('h')"
   ]
  },
  {
   "cell_type": "code",
   "execution_count": 50,
   "id": "3e9fc583",
   "metadata": {},
   "outputs": [
    {
     "data": {
      "text/plain": [
       "3"
      ]
     },
     "execution_count": 50,
     "metadata": {},
     "output_type": "execute_result"
    }
   ],
   "source": [
    "x.find('h')"
   ]
  },
  {
   "cell_type": "code",
   "execution_count": 52,
   "id": "8a996092",
   "metadata": {},
   "outputs": [
    {
     "data": {
      "text/plain": [
       "0"
      ]
     },
     "execution_count": 52,
     "metadata": {},
     "output_type": "execute_result"
    }
   ],
   "source": [
    "x.count('m')"
   ]
  },
  {
   "cell_type": "code",
   "execution_count": 53,
   "id": "4ab58577",
   "metadata": {},
   "outputs": [
    {
     "data": {
      "text/plain": [
       "6"
      ]
     },
     "execution_count": 53,
     "metadata": {},
     "output_type": "execute_result"
    }
   ],
   "source": [
    "len(x)"
   ]
  },
  {
   "cell_type": "code",
   "execution_count": 57,
   "id": "c3eb4916",
   "metadata": {},
   "outputs": [
    {
     "data": {
      "text/plain": [
       "'python'"
      ]
     },
     "execution_count": 57,
     "metadata": {},
     "output_type": "execute_result"
    }
   ],
   "source": [
    "x"
   ]
  },
  {
   "cell_type": "code",
   "execution_count": 58,
   "id": "4c6b34e5",
   "metadata": {},
   "outputs": [
    {
     "data": {
      "text/plain": [
       "'PYTHON'"
      ]
     },
     "execution_count": 58,
     "metadata": {},
     "output_type": "execute_result"
    }
   ],
   "source": [
    "x.upper()"
   ]
  },
  {
   "cell_type": "code",
   "execution_count": 59,
   "id": "fbfc563d",
   "metadata": {},
   "outputs": [
    {
     "data": {
      "text/plain": [
       "'python'"
      ]
     },
     "execution_count": 59,
     "metadata": {},
     "output_type": "execute_result"
    }
   ],
   "source": [
    "x.lower()"
   ]
  },
  {
   "cell_type": "code",
   "execution_count": 60,
   "id": "df2132f4",
   "metadata": {},
   "outputs": [
    {
     "data": {
      "text/plain": [
       "'Python'"
      ]
     },
     "execution_count": 60,
     "metadata": {},
     "output_type": "execute_result"
    }
   ],
   "source": [
    "x.capitalize()"
   ]
  },
  {
   "cell_type": "code",
   "execution_count": 61,
   "id": "c6eb990a",
   "metadata": {},
   "outputs": [
    {
     "data": {
      "text/plain": [
       "False"
      ]
     },
     "execution_count": 61,
     "metadata": {},
     "output_type": "execute_result"
    }
   ],
   "source": [
    "x.isupper()"
   ]
  },
  {
   "cell_type": "code",
   "execution_count": 62,
   "id": "ebf456d5",
   "metadata": {},
   "outputs": [
    {
     "data": {
      "text/plain": [
       "True"
      ]
     },
     "execution_count": 62,
     "metadata": {},
     "output_type": "execute_result"
    }
   ],
   "source": [
    "x.islower()"
   ]
  },
  {
   "cell_type": "code",
   "execution_count": 63,
   "id": "4ef2dedf",
   "metadata": {},
   "outputs": [
    {
     "data": {
      "text/plain": [
       "False"
      ]
     },
     "execution_count": 63,
     "metadata": {},
     "output_type": "execute_result"
    }
   ],
   "source": [
    "x.isnumeric()"
   ]
  },
  {
   "cell_type": "code",
   "execution_count": 64,
   "id": "57bb5683",
   "metadata": {},
   "outputs": [
    {
     "data": {
      "text/plain": [
       "True"
      ]
     },
     "execution_count": 64,
     "metadata": {},
     "output_type": "execute_result"
    }
   ],
   "source": [
    "x.isalnum()"
   ]
  },
  {
   "cell_type": "code",
   "execution_count": 65,
   "id": "fcf795c0",
   "metadata": {},
   "outputs": [
    {
     "data": {
      "text/plain": [
       "True"
      ]
     },
     "execution_count": 65,
     "metadata": {},
     "output_type": "execute_result"
    }
   ],
   "source": [
    "x.isalpha()"
   ]
  },
  {
   "cell_type": "code",
   "execution_count": 66,
   "id": "bf036780",
   "metadata": {},
   "outputs": [
    {
     "data": {
      "text/plain": [
       "'python'"
      ]
     },
     "execution_count": 66,
     "metadata": {},
     "output_type": "execute_result"
    }
   ],
   "source": [
    "x"
   ]
  },
  {
   "cell_type": "code",
   "execution_count": 67,
   "id": "78dad575",
   "metadata": {},
   "outputs": [
    {
     "data": {
      "text/plain": [
       "'h'"
      ]
     },
     "execution_count": 67,
     "metadata": {},
     "output_type": "execute_result"
    }
   ],
   "source": [
    "x[3]"
   ]
  },
  {
   "cell_type": "code",
   "execution_count": 68,
   "id": "19ff26df",
   "metadata": {},
   "outputs": [],
   "source": [
    "x='kython'"
   ]
  },
  {
   "cell_type": "code",
   "execution_count": 70,
   "id": "320fb252",
   "metadata": {
    "scrolled": true
   },
   "outputs": [
    {
     "ename": "TypeError",
     "evalue": "'str' object does not support item assignment",
     "output_type": "error",
     "traceback": [
      "\u001b[0;31m---------------------------------------------------------------------------\u001b[0m",
      "\u001b[0;31mTypeError\u001b[0m                                 Traceback (most recent call last)",
      "Input \u001b[0;32mIn [70]\u001b[0m, in \u001b[0;36m<cell line: 1>\u001b[0;34m()\u001b[0m\n\u001b[0;32m----> 1\u001b[0m x[\u001b[38;5;241m0\u001b[39m]\u001b[38;5;241m=\u001b[39m\u001b[38;5;124m'\u001b[39m\u001b[38;5;124mp\u001b[39m\u001b[38;5;124m'\u001b[39m\n",
      "\u001b[0;31mTypeError\u001b[0m: 'str' object does not support item assignment"
     ]
    }
   ],
   "source": [
    "x[0]='p'"
   ]
  },
  {
   "cell_type": "code",
   "execution_count": 73,
   "id": "f4544187",
   "metadata": {},
   "outputs": [
    {
     "data": {
      "text/plain": [
       "140411347572848"
      ]
     },
     "execution_count": 73,
     "metadata": {},
     "output_type": "execute_result"
    }
   ],
   "source": [
    "id(x)"
   ]
  },
  {
   "cell_type": "code",
   "execution_count": 74,
   "id": "179a7da8",
   "metadata": {},
   "outputs": [],
   "source": [
    "x=x.replace('k','p')"
   ]
  },
  {
   "cell_type": "code",
   "execution_count": 75,
   "id": "a792fb9d",
   "metadata": {},
   "outputs": [
    {
     "data": {
      "text/plain": [
       "140411348002480"
      ]
     },
     "execution_count": 75,
     "metadata": {},
     "output_type": "execute_result"
    }
   ],
   "source": [
    "id(x)"
   ]
  },
  {
   "cell_type": "markdown",
   "id": "4f15bb21",
   "metadata": {},
   "source": [
    "# bool"
   ]
  },
  {
   "cell_type": "code",
   "execution_count": 76,
   "id": "e5dca421",
   "metadata": {},
   "outputs": [],
   "source": [
    "x=12"
   ]
  },
  {
   "cell_type": "code",
   "execution_count": 77,
   "id": "648e442a",
   "metadata": {},
   "outputs": [
    {
     "data": {
      "text/plain": [
       "True"
      ]
     },
     "execution_count": 77,
     "metadata": {},
     "output_type": "execute_result"
    }
   ],
   "source": [
    "x==9+3"
   ]
  },
  {
   "cell_type": "code",
   "execution_count": 78,
   "id": "785f9fb8",
   "metadata": {},
   "outputs": [
    {
     "data": {
      "text/plain": [
       "False"
      ]
     },
     "execution_count": 78,
     "metadata": {},
     "output_type": "execute_result"
    }
   ],
   "source": [
    "x==11"
   ]
  },
  {
   "cell_type": "code",
   "execution_count": 79,
   "id": "47f6b01f",
   "metadata": {},
   "outputs": [
    {
     "data": {
      "text/plain": [
       "True"
      ]
     },
     "execution_count": 79,
     "metadata": {},
     "output_type": "execute_result"
    }
   ],
   "source": [
    "x==12.0"
   ]
  },
  {
   "cell_type": "code",
   "execution_count": 80,
   "id": "942502b7",
   "metadata": {},
   "outputs": [
    {
     "data": {
      "text/plain": [
       "6"
      ]
     },
     "execution_count": 80,
     "metadata": {},
     "output_type": "execute_result"
    }
   ],
   "source": [
    "5+True"
   ]
  },
  {
   "cell_type": "code",
   "execution_count": 81,
   "id": "7b4cdeda",
   "metadata": {},
   "outputs": [
    {
     "data": {
      "text/plain": [
       "6"
      ]
     },
     "execution_count": 81,
     "metadata": {},
     "output_type": "execute_result"
    }
   ],
   "source": [
    "5+True-False"
   ]
  },
  {
   "cell_type": "code",
   "execution_count": 82,
   "id": "0dc96e60",
   "metadata": {},
   "outputs": [
    {
     "data": {
      "text/plain": [
       "True"
      ]
     },
     "execution_count": 82,
     "metadata": {},
     "output_type": "execute_result"
    }
   ],
   "source": [
    "x==12"
   ]
  },
  {
   "cell_type": "code",
   "execution_count": 106,
   "id": "9a364912",
   "metadata": {},
   "outputs": [],
   "source": [
    "x=14"
   ]
  },
  {
   "cell_type": "code",
   "execution_count": 107,
   "id": "e67f0a91",
   "metadata": {},
   "outputs": [],
   "source": [
    "y=14"
   ]
  },
  {
   "cell_type": "code",
   "execution_count": 108,
   "id": "fda39e52",
   "metadata": {},
   "outputs": [
    {
     "data": {
      "text/plain": [
       "140412144773840"
      ]
     },
     "execution_count": 108,
     "metadata": {},
     "output_type": "execute_result"
    }
   ],
   "source": [
    "id(x)"
   ]
  },
  {
   "cell_type": "code",
   "execution_count": 109,
   "id": "3269aedc",
   "metadata": {},
   "outputs": [
    {
     "data": {
      "text/plain": [
       "140412144773840"
      ]
     },
     "execution_count": 109,
     "metadata": {},
     "output_type": "execute_result"
    }
   ],
   "source": [
    "id(y)"
   ]
  },
  {
   "cell_type": "code",
   "execution_count": 104,
   "id": "2b1baeed",
   "metadata": {},
   "outputs": [
    {
     "data": {
      "text/plain": [
       "True"
      ]
     },
     "execution_count": 104,
     "metadata": {},
     "output_type": "execute_result"
    }
   ],
   "source": [
    "x==y"
   ]
  },
  {
   "cell_type": "code",
   "execution_count": 105,
   "id": "db38cc35",
   "metadata": {},
   "outputs": [
    {
     "data": {
      "text/plain": [
       "False"
      ]
     },
     "execution_count": 105,
     "metadata": {},
     "output_type": "execute_result"
    }
   ],
   "source": [
    "x is y"
   ]
  },
  {
   "cell_type": "markdown",
   "id": "85c14477",
   "metadata": {},
   "source": [
    "# list"
   ]
  },
  {
   "cell_type": "code",
   "execution_count": 110,
   "id": "12aa5e70",
   "metadata": {},
   "outputs": [],
   "source": [
    "# collection of objects "
   ]
  },
  {
   "cell_type": "code",
   "execution_count": 117,
   "id": "089da84c",
   "metadata": {},
   "outputs": [],
   "source": [
    "l=[1, 2.4,\"beuf\",True,[1,5,6]]"
   ]
  },
  {
   "cell_type": "code",
   "execution_count": 126,
   "id": "f5636490",
   "metadata": {},
   "outputs": [],
   "source": [
    "l=[1,2,3]"
   ]
  },
  {
   "cell_type": "code",
   "execution_count": 119,
   "id": "0375faa3",
   "metadata": {},
   "outputs": [
    {
     "data": {
      "text/plain": [
       "[1, 2, 3, 1, 2, 3]"
      ]
     },
     "execution_count": 119,
     "metadata": {},
     "output_type": "execute_result"
    }
   ],
   "source": [
    "l+l"
   ]
  },
  {
   "cell_type": "code",
   "execution_count": 120,
   "id": "be814c98",
   "metadata": {},
   "outputs": [
    {
     "data": {
      "text/plain": [
       "[1, 2, 3, 1, 2, 3]"
      ]
     },
     "execution_count": 120,
     "metadata": {},
     "output_type": "execute_result"
    }
   ],
   "source": [
    "l*2"
   ]
  },
  {
   "cell_type": "code",
   "execution_count": 121,
   "id": "039d6a0e",
   "metadata": {},
   "outputs": [
    {
     "data": {
      "text/plain": [
       "1"
      ]
     },
     "execution_count": 121,
     "metadata": {},
     "output_type": "execute_result"
    }
   ],
   "source": [
    "l.index(2)"
   ]
  },
  {
   "cell_type": "code",
   "execution_count": 116,
   "id": "f2c5f986",
   "metadata": {},
   "outputs": [
    {
     "data": {
      "text/plain": [
       "1"
      ]
     },
     "execution_count": 116,
     "metadata": {},
     "output_type": "execute_result"
    }
   ],
   "source": [
    "l.count(2)"
   ]
  },
  {
   "cell_type": "code",
   "execution_count": 127,
   "id": "b8b4cc78",
   "metadata": {},
   "outputs": [
    {
     "data": {
      "text/plain": [
       "140411236626368"
      ]
     },
     "execution_count": 127,
     "metadata": {},
     "output_type": "execute_result"
    }
   ],
   "source": [
    "id(l)"
   ]
  },
  {
   "cell_type": "code",
   "execution_count": 128,
   "id": "be20d3fa",
   "metadata": {},
   "outputs": [],
   "source": [
    "l[0]=100"
   ]
  },
  {
   "cell_type": "code",
   "execution_count": 125,
   "id": "3d0d98f0",
   "metadata": {},
   "outputs": [
    {
     "data": {
      "text/plain": [
       "[100, 2, 3]"
      ]
     },
     "execution_count": 125,
     "metadata": {},
     "output_type": "execute_result"
    }
   ],
   "source": [
    "l"
   ]
  },
  {
   "cell_type": "code",
   "execution_count": 129,
   "id": "b109ade9",
   "metadata": {},
   "outputs": [
    {
     "data": {
      "text/plain": [
       "140411236626368"
      ]
     },
     "execution_count": 129,
     "metadata": {},
     "output_type": "execute_result"
    }
   ],
   "source": [
    "id(l)"
   ]
  },
  {
   "cell_type": "code",
   "execution_count": 130,
   "id": "ed73d4b4",
   "metadata": {},
   "outputs": [
    {
     "data": {
      "text/plain": [
       "[100, 2, 3]"
      ]
     },
     "execution_count": 130,
     "metadata": {},
     "output_type": "execute_result"
    }
   ],
   "source": [
    "l"
   ]
  },
  {
   "cell_type": "code",
   "execution_count": 131,
   "id": "5b4124c3",
   "metadata": {},
   "outputs": [],
   "source": [
    "l.append(15)"
   ]
  },
  {
   "cell_type": "code",
   "execution_count": 132,
   "id": "aa494327",
   "metadata": {},
   "outputs": [
    {
     "data": {
      "text/plain": [
       "[100, 2, 3, 15]"
      ]
     },
     "execution_count": 132,
     "metadata": {},
     "output_type": "execute_result"
    }
   ],
   "source": [
    "l\n",
    "\n",
    "\n"
   ]
  },
  {
   "cell_type": "code",
   "execution_count": 133,
   "id": "8f7ef313",
   "metadata": {},
   "outputs": [],
   "source": [
    "l.insert(1,27)"
   ]
  },
  {
   "cell_type": "code",
   "execution_count": 134,
   "id": "1ce18c33",
   "metadata": {},
   "outputs": [
    {
     "data": {
      "text/plain": [
       "[100, 27, 2, 3, 15]"
      ]
     },
     "execution_count": 134,
     "metadata": {},
     "output_type": "execute_result"
    }
   ],
   "source": [
    "l"
   ]
  },
  {
   "cell_type": "code",
   "execution_count": 135,
   "id": "879fc7ee",
   "metadata": {},
   "outputs": [],
   "source": [
    "l.remove(100)"
   ]
  },
  {
   "cell_type": "code",
   "execution_count": 136,
   "id": "6a028c3d",
   "metadata": {},
   "outputs": [
    {
     "data": {
      "text/plain": [
       "[27, 2, 3, 15]"
      ]
     },
     "execution_count": 136,
     "metadata": {},
     "output_type": "execute_result"
    }
   ],
   "source": [
    "l"
   ]
  },
  {
   "cell_type": "code",
   "execution_count": 137,
   "id": "e9360cac",
   "metadata": {},
   "outputs": [
    {
     "data": {
      "text/plain": [
       "3"
      ]
     },
     "execution_count": 137,
     "metadata": {},
     "output_type": "execute_result"
    }
   ],
   "source": [
    "l.pop(2)"
   ]
  },
  {
   "cell_type": "code",
   "execution_count": 139,
   "id": "1afa56a2",
   "metadata": {},
   "outputs": [
    {
     "data": {
      "text/plain": [
       "[27, 2, 15]"
      ]
     },
     "execution_count": 139,
     "metadata": {},
     "output_type": "execute_result"
    }
   ],
   "source": [
    "l"
   ]
  },
  {
   "cell_type": "code",
   "execution_count": null,
   "id": "3769aa20",
   "metadata": {},
   "outputs": [],
   "source": []
  }
 ],
 "metadata": {
  "kernelspec": {
   "display_name": "Python 3 (ipykernel)",
   "language": "python",
   "name": "python3"
  },
  "language_info": {
   "codemirror_mode": {
    "name": "ipython",
    "version": 3
   },
   "file_extension": ".py",
   "mimetype": "text/x-python",
   "name": "python",
   "nbconvert_exporter": "python",
   "pygments_lexer": "ipython3",
   "version": "3.9.12"
  }
 },
 "nbformat": 4,
 "nbformat_minor": 5
}
